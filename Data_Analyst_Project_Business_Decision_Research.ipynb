{
  "nbformat": 4,
  "nbformat_minor": 0,
  "metadata": {
    "colab": {
      "name": "Data Analyst Project: Business Decision Research.ipynb",
      "provenance": [],
      "collapsed_sections": [],
      "authorship_tag": "ABX9TyOcRQBB2XV6TquSjS3SK2VA",
      "include_colab_link": true
    },
    "kernelspec": {
      "display_name": "Python 3",
      "name": "python3"
    },
    "language_info": {
      "name": "python"
    }
  },
  "cells": [
    {
      "cell_type": "markdown",
      "metadata": {
        "id": "view-in-github",
        "colab_type": "text"
      },
      "source": [
        "<a href=\"https://colab.research.google.com/github/dikoharyadhanto/data-analysis-project-business-decision-research/blob/main/Data_Analyst_Project_Business_Decision_Research.ipynb\" target=\"_parent\"><img src=\"https://colab.research.google.com/assets/colab-badge.svg\" alt=\"Open In Colab\"/></a>"
      ]
    },
    {
      "cell_type": "markdown",
      "metadata": {
        "id": "2vCbaI69MXs8"
      },
      "source": [
        "# **Project: Market Research and Recommendation and Visualization Technique for Business Decision Making**"
      ]
    },
    {
      "cell_type": "markdown",
      "metadata": {
        "id": "CJCUffP0S29A"
      },
      "source": [
        "# **Data Preparation**"
      ]
    },
    {
      "cell_type": "markdown",
      "metadata": {
        "id": "yrd_0ZU9SvbN"
      },
      "source": [
        "## **Importing and Inspecting Data**"
      ]
    },
    {
      "cell_type": "code",
      "metadata": {
        "colab": {
          "base_uri": "https://localhost:8080/",
          "height": 221
        },
        "id": "6F45RihXKHxW",
        "outputId": "a7366cbf-8cb5-40af-a1a2-36dc5ef48e1b"
      },
      "source": [
        "import pandas as pd\n",
        "df = pd.read_csv('https://storage.googleapis.com/dqlab-dataset/data_retail.csv', sep=';')\n",
        "\n",
        "print('Lima data teratas:')\n",
        "df.head()"
      ],
      "execution_count": 129,
      "outputs": [
        {
          "output_type": "stream",
          "text": [
            "Lima data teratas:\n"
          ],
          "name": "stdout"
        },
        {
          "output_type": "execute_result",
          "data": {
            "text/html": [
              "<div>\n",
              "<style scoped>\n",
              "    .dataframe tbody tr th:only-of-type {\n",
              "        vertical-align: middle;\n",
              "    }\n",
              "\n",
              "    .dataframe tbody tr th {\n",
              "        vertical-align: top;\n",
              "    }\n",
              "\n",
              "    .dataframe thead th {\n",
              "        text-align: right;\n",
              "    }\n",
              "</style>\n",
              "<table border=\"1\" class=\"dataframe\">\n",
              "  <thead>\n",
              "    <tr style=\"text-align: right;\">\n",
              "      <th></th>\n",
              "      <th>no</th>\n",
              "      <th>Row_Num</th>\n",
              "      <th>Customer_ID</th>\n",
              "      <th>Product</th>\n",
              "      <th>First_Transaction</th>\n",
              "      <th>Last_Transaction</th>\n",
              "      <th>Average_Transaction_Amount</th>\n",
              "      <th>Count_Transaction</th>\n",
              "    </tr>\n",
              "  </thead>\n",
              "  <tbody>\n",
              "    <tr>\n",
              "      <th>0</th>\n",
              "      <td>1</td>\n",
              "      <td>1</td>\n",
              "      <td>29531</td>\n",
              "      <td>Jaket</td>\n",
              "      <td>1466304274396</td>\n",
              "      <td>1538718482608</td>\n",
              "      <td>1467681</td>\n",
              "      <td>22</td>\n",
              "    </tr>\n",
              "    <tr>\n",
              "      <th>1</th>\n",
              "      <td>2</td>\n",
              "      <td>2</td>\n",
              "      <td>29531</td>\n",
              "      <td>Sepatu</td>\n",
              "      <td>1406077331494</td>\n",
              "      <td>1545735761270</td>\n",
              "      <td>1269337</td>\n",
              "      <td>41</td>\n",
              "    </tr>\n",
              "    <tr>\n",
              "      <th>2</th>\n",
              "      <td>3</td>\n",
              "      <td>3</td>\n",
              "      <td>141526</td>\n",
              "      <td>Tas</td>\n",
              "      <td>1493349147000</td>\n",
              "      <td>1548322802000</td>\n",
              "      <td>310915</td>\n",
              "      <td>30</td>\n",
              "    </tr>\n",
              "    <tr>\n",
              "      <th>3</th>\n",
              "      <td>4</td>\n",
              "      <td>4</td>\n",
              "      <td>141526</td>\n",
              "      <td>Jaket</td>\n",
              "      <td>1493362372547</td>\n",
              "      <td>1547643603911</td>\n",
              "      <td>722632</td>\n",
              "      <td>27</td>\n",
              "    </tr>\n",
              "    <tr>\n",
              "      <th>4</th>\n",
              "      <td>5</td>\n",
              "      <td>5</td>\n",
              "      <td>37545</td>\n",
              "      <td>Sepatu</td>\n",
              "      <td>1429178498531</td>\n",
              "      <td>1542891221530</td>\n",
              "      <td>1775036</td>\n",
              "      <td>25</td>\n",
              "    </tr>\n",
              "  </tbody>\n",
              "</table>\n",
              "</div>"
            ],
            "text/plain": [
              "   no  Row_Num  ...  Average_Transaction_Amount Count_Transaction\n",
              "0   1        1  ...                     1467681                22\n",
              "1   2        2  ...                     1269337                41\n",
              "2   3        3  ...                      310915                30\n",
              "3   4        4  ...                      722632                27\n",
              "4   5        5  ...                     1775036                25\n",
              "\n",
              "[5 rows x 8 columns]"
            ]
          },
          "metadata": {
            "tags": []
          },
          "execution_count": 129
        }
      ]
    },
    {
      "cell_type": "code",
      "metadata": {
        "id": "vCvf3OIiTAYR",
        "colab": {
          "base_uri": "https://localhost:8080/"
        },
        "outputId": "3830f252-123c-425a-b5e1-b95b2d5815d0"
      },
      "source": [
        "print('\\nInfo dataset:')\n",
        "print(df.info())"
      ],
      "execution_count": 130,
      "outputs": [
        {
          "output_type": "stream",
          "text": [
            "\n",
            "Info dataset:\n",
            "<class 'pandas.core.frame.DataFrame'>\n",
            "RangeIndex: 100000 entries, 0 to 99999\n",
            "Data columns (total 8 columns):\n",
            " #   Column                      Non-Null Count   Dtype \n",
            "---  ------                      --------------   ----- \n",
            " 0   no                          100000 non-null  int64 \n",
            " 1   Row_Num                     100000 non-null  int64 \n",
            " 2   Customer_ID                 100000 non-null  int64 \n",
            " 3   Product                     100000 non-null  object\n",
            " 4   First_Transaction           100000 non-null  int64 \n",
            " 5   Last_Transaction            100000 non-null  int64 \n",
            " 6   Average_Transaction_Amount  100000 non-null  int64 \n",
            " 7   Count_Transaction           100000 non-null  int64 \n",
            "dtypes: int64(7), object(1)\n",
            "memory usage: 6.1+ MB\n",
            "None\n"
          ],
          "name": "stdout"
        }
      ]
    },
    {
      "cell_type": "markdown",
      "metadata": {
        "id": "LBZCiYzRUAwq"
      },
      "source": [
        "## **Data Cleansing**"
      ]
    },
    {
      "cell_type": "code",
      "metadata": {
        "colab": {
          "base_uri": "https://localhost:8080/"
        },
        "id": "j2N3qPzhfdO8",
        "outputId": "171f0203-9304-4cbe-976c-5246ff1e9fd9"
      },
      "source": [
        "# Kolom First_Transaction\n",
        "df['First_Transaction'] = pd.to_datetime(df['First_Transaction']/1000, unit='s', origin='1970-01-01')\n",
        "# Kolom Last_Transaction\n",
        "df['Last_Transaction'] = pd.to_datetime(df['Last_Transaction']/1000, unit='s', origin='1970-01-01')\n",
        "\n",
        "print('Lima data teratas:')\n",
        "print(df.head())\n",
        "\n",
        "print('\\nInfo dataset:')\n",
        "print(df.info())"
      ],
      "execution_count": 131,
      "outputs": [
        {
          "output_type": "stream",
          "text": [
            "Lima data teratas:\n",
            "   no  Row_Num  ...  Average_Transaction_Amount Count_Transaction\n",
            "0   1        1  ...                     1467681                22\n",
            "1   2        2  ...                     1269337                41\n",
            "2   3        3  ...                      310915                30\n",
            "3   4        4  ...                      722632                27\n",
            "4   5        5  ...                     1775036                25\n",
            "\n",
            "[5 rows x 8 columns]\n",
            "\n",
            "Info dataset:\n",
            "<class 'pandas.core.frame.DataFrame'>\n",
            "RangeIndex: 100000 entries, 0 to 99999\n",
            "Data columns (total 8 columns):\n",
            " #   Column                      Non-Null Count   Dtype         \n",
            "---  ------                      --------------   -----         \n",
            " 0   no                          100000 non-null  int64         \n",
            " 1   Row_Num                     100000 non-null  int64         \n",
            " 2   Customer_ID                 100000 non-null  int64         \n",
            " 3   Product                     100000 non-null  object        \n",
            " 4   First_Transaction           100000 non-null  datetime64[ns]\n",
            " 5   Last_Transaction            100000 non-null  datetime64[ns]\n",
            " 6   Average_Transaction_Amount  100000 non-null  int64         \n",
            " 7   Count_Transaction           100000 non-null  int64         \n",
            "dtypes: datetime64[ns](2), int64(5), object(1)\n",
            "memory usage: 6.1+ MB\n",
            "None\n"
          ],
          "name": "stdout"
        }
      ]
    },
    {
      "cell_type": "markdown",
      "metadata": {
        "id": "1MVgHT_rgfPN"
      },
      "source": [
        "## **Churn Customers**"
      ]
    },
    {
      "cell_type": "markdown",
      "metadata": {
        "id": "MggY1rv6gguU"
      },
      "source": [
        "Untuk menentukan churn customers sesuai definisi yang telah diberikan, carilah\n",
        "\n",
        "1. transaksi paling terakhir kapan dilakukan\n",
        "2. klasifikasikanlah mana customer yang berstatus churn dan mana yang tidak.\n",
        "\n",
        "Setelah itu cetak lima data teratas dan informasi dataset."
      ]
    },
    {
      "cell_type": "code",
      "metadata": {
        "colab": {
          "base_uri": "https://localhost:8080/"
        },
        "id": "OY5l_-A8guks",
        "outputId": "ac1af3fb-ba44-4211-b99a-3cd785458066"
      },
      "source": [
        "# Pengecekan transaksaksi terakhir dalam dataset\n",
        "print(df['Last_Transaction'])\n"
      ],
      "execution_count": 132,
      "outputs": [
        {
          "output_type": "stream",
          "text": [
            "0       2018-10-05 05:48:02.608000040\n",
            "1       2018-12-25 11:02:41.269999981\n",
            "2       2019-01-24 09:40:02.000000000\n",
            "3       2019-01-16 13:00:03.911000013\n",
            "4       2018-11-22 12:53:41.529999970\n",
            "                     ...             \n",
            "99995   2016-06-01 11:35:39.092000008\n",
            "99996   2017-02-09 05:46:10.763000011\n",
            "99997   2015-08-30 08:54:20.706000090\n",
            "99998   2014-11-14 02:42:28.026000023\n",
            "99999   2018-10-24 09:36:04.125000000\n",
            "Name: Last_Transaction, Length: 100000, dtype: datetime64[ns]\n"
          ],
          "name": "stdout"
        }
      ]
    },
    {
      "cell_type": "code",
      "metadata": {
        "colab": {
          "base_uri": "https://localhost:8080/"
        },
        "id": "VKeSd8VzgW40",
        "outputId": "8bdf233e-f0e7-436a-beb1-7d11c7b765a7"
      },
      "source": [
        "# Pengecekan transaksaksi terakhir dalam dataset\n",
        "print(max(df['Last_Transaction']))\n",
        "\n",
        "# Klasifikasikan customer yang berstatus churn atau tidak dengan boolean\n",
        "df.loc[df['Last_Transaction']<= '2018-08-01', 'is_churn'] = True \n",
        "df.loc[df['Last_Transaction']> '2018-08-01', 'is_churn'] = False \n",
        "\n",
        "print('Lima data teratas:')\n",
        "print(df.head())\n",
        "\n",
        "print('\\nInfo dataset:')\n",
        "print(df.info())"
      ],
      "execution_count": 133,
      "outputs": [
        {
          "output_type": "stream",
          "text": [
            "2019-02-01 23:57:57.286000013\n",
            "Lima data teratas:\n",
            "   no  Row_Num  ...  Count_Transaction is_churn\n",
            "0   1        1  ...                 22    False\n",
            "1   2        2  ...                 41    False\n",
            "2   3        3  ...                 30    False\n",
            "3   4        4  ...                 27    False\n",
            "4   5        5  ...                 25    False\n",
            "\n",
            "[5 rows x 9 columns]\n",
            "\n",
            "Info dataset:\n",
            "<class 'pandas.core.frame.DataFrame'>\n",
            "RangeIndex: 100000 entries, 0 to 99999\n",
            "Data columns (total 9 columns):\n",
            " #   Column                      Non-Null Count   Dtype         \n",
            "---  ------                      --------------   -----         \n",
            " 0   no                          100000 non-null  int64         \n",
            " 1   Row_Num                     100000 non-null  int64         \n",
            " 2   Customer_ID                 100000 non-null  int64         \n",
            " 3   Product                     100000 non-null  object        \n",
            " 4   First_Transaction           100000 non-null  datetime64[ns]\n",
            " 5   Last_Transaction            100000 non-null  datetime64[ns]\n",
            " 6   Average_Transaction_Amount  100000 non-null  int64         \n",
            " 7   Count_Transaction           100000 non-null  int64         \n",
            " 8   is_churn                    100000 non-null  object        \n",
            "dtypes: datetime64[ns](2), int64(5), object(2)\n",
            "memory usage: 6.9+ MB\n",
            "None\n"
          ],
          "name": "stdout"
        }
      ]
    },
    {
      "cell_type": "markdown",
      "metadata": {
        "id": "SvPcXl3G1Mao"
      },
      "source": [
        "## **Menghapus kolom yang tidak diperlukan**"
      ]
    },
    {
      "cell_type": "code",
      "metadata": {
        "colab": {
          "base_uri": "https://localhost:8080/"
        },
        "id": "iit-Y4773jU-",
        "outputId": "2f3a21fd-0c06-41ed-e946-6366f25c1330"
      },
      "source": [
        "# Hapus kolom-kolom yang tidak diperlukan\n",
        "del df['no']\n",
        "del df['Row_Num']\n",
        "\n",
        "# Cetak lima data teratas\n",
        "print(df.head())"
      ],
      "execution_count": 134,
      "outputs": [
        {
          "output_type": "stream",
          "text": [
            "   Customer_ID Product  ... Count_Transaction is_churn\n",
            "0        29531   Jaket  ...                22    False\n",
            "1        29531  Sepatu  ...                41    False\n",
            "2       141526     Tas  ...                30    False\n",
            "3       141526   Jaket  ...                27    False\n",
            "4        37545  Sepatu  ...                25    False\n",
            "\n",
            "[5 rows x 7 columns]\n"
          ],
          "name": "stdout"
        }
      ]
    },
    {
      "cell_type": "code",
      "metadata": {
        "colab": {
          "base_uri": "https://localhost:8080/",
          "height": 204
        },
        "id": "Y7MQq_KQZcPa",
        "outputId": "54ccacbf-0b2c-4724-b0d7-9631ff11d32b"
      },
      "source": [
        "df.head()"
      ],
      "execution_count": 135,
      "outputs": [
        {
          "output_type": "execute_result",
          "data": {
            "text/html": [
              "<div>\n",
              "<style scoped>\n",
              "    .dataframe tbody tr th:only-of-type {\n",
              "        vertical-align: middle;\n",
              "    }\n",
              "\n",
              "    .dataframe tbody tr th {\n",
              "        vertical-align: top;\n",
              "    }\n",
              "\n",
              "    .dataframe thead th {\n",
              "        text-align: right;\n",
              "    }\n",
              "</style>\n",
              "<table border=\"1\" class=\"dataframe\">\n",
              "  <thead>\n",
              "    <tr style=\"text-align: right;\">\n",
              "      <th></th>\n",
              "      <th>Customer_ID</th>\n",
              "      <th>Product</th>\n",
              "      <th>First_Transaction</th>\n",
              "      <th>Last_Transaction</th>\n",
              "      <th>Average_Transaction_Amount</th>\n",
              "      <th>Count_Transaction</th>\n",
              "      <th>is_churn</th>\n",
              "    </tr>\n",
              "  </thead>\n",
              "  <tbody>\n",
              "    <tr>\n",
              "      <th>0</th>\n",
              "      <td>29531</td>\n",
              "      <td>Jaket</td>\n",
              "      <td>2016-06-19 02:44:34.395999908</td>\n",
              "      <td>2018-10-05 05:48:02.608000040</td>\n",
              "      <td>1467681</td>\n",
              "      <td>22</td>\n",
              "      <td>False</td>\n",
              "    </tr>\n",
              "    <tr>\n",
              "      <th>1</th>\n",
              "      <td>29531</td>\n",
              "      <td>Sepatu</td>\n",
              "      <td>2014-07-23 01:02:11.493999958</td>\n",
              "      <td>2018-12-25 11:02:41.269999981</td>\n",
              "      <td>1269337</td>\n",
              "      <td>41</td>\n",
              "      <td>False</td>\n",
              "    </tr>\n",
              "    <tr>\n",
              "      <th>2</th>\n",
              "      <td>141526</td>\n",
              "      <td>Tas</td>\n",
              "      <td>2017-04-28 03:12:27.000000000</td>\n",
              "      <td>2019-01-24 09:40:02.000000000</td>\n",
              "      <td>310915</td>\n",
              "      <td>30</td>\n",
              "      <td>False</td>\n",
              "    </tr>\n",
              "    <tr>\n",
              "      <th>3</th>\n",
              "      <td>141526</td>\n",
              "      <td>Jaket</td>\n",
              "      <td>2017-04-28 06:52:52.546999931</td>\n",
              "      <td>2019-01-16 13:00:03.911000013</td>\n",
              "      <td>722632</td>\n",
              "      <td>27</td>\n",
              "      <td>False</td>\n",
              "    </tr>\n",
              "    <tr>\n",
              "      <th>4</th>\n",
              "      <td>37545</td>\n",
              "      <td>Sepatu</td>\n",
              "      <td>2015-04-16 10:01:38.530999899</td>\n",
              "      <td>2018-11-22 12:53:41.529999970</td>\n",
              "      <td>1775036</td>\n",
              "      <td>25</td>\n",
              "      <td>False</td>\n",
              "    </tr>\n",
              "  </tbody>\n",
              "</table>\n",
              "</div>"
            ],
            "text/plain": [
              "   Customer_ID Product  ... Count_Transaction is_churn\n",
              "0        29531   Jaket  ...                22    False\n",
              "1        29531  Sepatu  ...                41    False\n",
              "2       141526     Tas  ...                30    False\n",
              "3       141526   Jaket  ...                27    False\n",
              "4        37545  Sepatu  ...                25    False\n",
              "\n",
              "[5 rows x 7 columns]"
            ]
          },
          "metadata": {
            "tags": []
          },
          "execution_count": 135
        }
      ]
    },
    {
      "cell_type": "markdown",
      "metadata": {
        "id": "5JLUzVZi3xR2"
      },
      "source": [
        "# **Visualization**"
      ]
    },
    {
      "cell_type": "markdown",
      "metadata": {
        "id": "SVlQxPvB3zxj"
      },
      "source": [
        "## **Customer acquisition by year**"
      ]
    },
    {
      "cell_type": "code",
      "metadata": {
        "colab": {
          "base_uri": "https://localhost:8080/",
          "height": 297
        },
        "id": "5oa3hHsi56Hp",
        "outputId": "0b94a7e7-b8d1-4fbb-9047-dc7ecd4b7acd"
      },
      "source": [
        "import matplotlib.pyplot as plt\n",
        "\n",
        "# Kolom tahun transaksi pertama\n",
        "df['Year_First_Transaction'] = df['First_Transaction'].dt.year\n",
        "# Kolom tahun transaksi terakhir\n",
        "df['Year_Last_Transaction'] = df['Last_Transaction'].dt.year\n",
        "\n",
        "df_year = df.groupby(['Year_First_Transaction'])['Customer_ID'].count()\n",
        "df_year.plot(x='Year_First_Transaction', y='Customer_ID', \n",
        "             kind='bar', title='Graph of Customer Acquisition')\n",
        "plt.xlabel('Year_First_Transaction')\n",
        "plt.ylabel('Num_of_Customer')\n",
        "plt.tight_layout()\n",
        "plt.show()"
      ],
      "execution_count": 136,
      "outputs": [
        {
          "output_type": "display_data",
          "data": {
            "image/png": "[encoded data removed]",
            "text/plain": [
              "<Figure size 432x288 with 1 Axes>"
            ]
          },
          "metadata": {
            "tags": [],
            "needs_background": "light"
          }
        }
      ]
    },
    {
      "cell_type": "markdown",
      "metadata": {
        "id": "IL6woXu-_7P1"
      },
      "source": [
        "## **Transaction by year**"
      ]
    },
    {
      "cell_type": "code",
      "metadata": {
        "colab": {
          "base_uri": "https://localhost:8080/",
          "height": 314
        },
        "id": "wwvQqL56BeX8",
        "outputId": "402e79fa-3fce-4a51-c6d6-a464f24d2086"
      },
      "source": [
        "import matplotlib.pyplot as plt\n",
        "\n",
        "plt.clf()\n",
        "df_year = df.groupby(['Year_First_Transaction'])['Count_Transaction'].sum()\n",
        "df_year.plot(x='Year_First_Transaction', y='Count_Transaction', \n",
        "             kind='bar', title='Graph of Transaction Customer')\n",
        "plt.xlabel('Year_First_Transaction')\n",
        "plt.ylabel('Num_of_Transaction')\n",
        "plt.tight_layout()\n",
        "plt.show"
      ],
      "execution_count": 137,
      "outputs": [
        {
          "output_type": "execute_result",
          "data": {
            "text/plain": [
              "<function matplotlib.pyplot.show>"
            ]
          },
          "metadata": {
            "tags": []
          },
          "execution_count": 137
        },
        {
          "output_type": "display_data",
          "data": {
            "image/png": "[encoded data removed]",
            "text/plain": [
              "<Figure size 432x288 with 1 Axes>"
            ]
          },
          "metadata": {
            "tags": [],
            "needs_background": "light"
          }
        }
      ]
    },
    {
      "cell_type": "markdown",
      "metadata": {
        "id": "6SyPOOPDJJlZ"
      },
      "source": [
        "## **Average transaction amount by year**"
      ]
    },
    {
      "cell_type": "code",
      "metadata": {
        "colab": {
          "base_uri": "https://localhost:8080/"
        },
        "id": "_lhDPoRvN6-c",
        "outputId": "7c53fd10-c41b-43b7-cf73-618d36c62a4b"
      },
      "source": [
        "x = df.groupby(['Product'])['Year_First_Transaction'].mean().reset_index()\n",
        "print(x.head())"
      ],
      "execution_count": 138,
      "outputs": [
        {
          "output_type": "stream",
          "text": [
            "  Product  Year_First_Transaction\n",
            "0    Baju             2017.721864\n",
            "1   Jaket             2016.978827\n",
            "2  Sepatu             2016.365382\n",
            "3     Tas             2017.542134\n"
          ],
          "name": "stdout"
        }
      ]
    },
    {
      "cell_type": "code",
      "metadata": {
        "colab": {
          "base_uri": "https://localhost:8080/",
          "height": 297
        },
        "id": "f0nHEQkpI7ij",
        "outputId": "a04dfe0e-8bb1-4f03-c6da-64a3882cc723"
      },
      "source": [
        "import matplotlib.pyplot as plt\n",
        "import seaborn as sns\n",
        "\n",
        "plt.clf()\n",
        "sns.pointplot(data = df.groupby(['Product', 'Year_First_Transaction']).mean().reset_index(),\n",
        "              x='Year_First_Transaction',\n",
        "              y='Average_Transaction_Amount',\n",
        "              hue='Product')\n",
        "plt.tight_layout()\n",
        "plt.show()"
      ],
      "execution_count": 139,
      "outputs": [
        {
          "output_type": "display_data",
          "data": {
            "image/png": "[encoded data removed]",
            "text/plain": [
              "<Figure size 432x288 with 1 Axes>"
            ]
          },
          "metadata": {
            "tags": [],
            "needs_background": "light"
          }
        }
      ]
    },
    {
      "cell_type": "markdown",
      "metadata": {
        "id": "TDO7IFO5RjqE"
      },
      "source": [
        "## **Proporsi churned customer untuk setiap produk**"
      ]
    },
    {
      "cell_type": "code",
      "metadata": {
        "colab": {
          "base_uri": "https://localhost:8080/"
        },
        "id": "QcmH2SwXTCiY",
        "outputId": "f5562006-8246-4a3f-d611-22c9dd07d699"
      },
      "source": [
        "df_piv = df.pivot_table(index='Customer_ID', \n",
        "                        columns='Product',\n",
        "                        values='is_churn', \n",
        "                        aggfunc='count', \n",
        "                        fill_value=0)\n",
        "\n",
        "print(df_piv)"
      ],
      "execution_count": 140,
      "outputs": [
        {
          "output_type": "stream",
          "text": [
            "Product      Baju  Jaket  Sepatu  Tas\n",
            "Customer_ID                          \n",
            "654             0      1       1    0\n",
            "664             0      0       1    0\n",
            "665             0      0       1    0\n",
            "666             0      0       1    0\n",
            "673             0      1       1    0\n",
            "...           ...    ...     ...  ...\n",
            "846125          0      0       1    0\n",
            "846131          0      0       0    1\n",
            "846186          0      1       0    0\n",
            "846192          0      0       1    0\n",
            "846213          0      0       0    1\n",
            "\n",
            "[73194 rows x 4 columns]\n"
          ],
          "name": "stdout"
        }
      ]
    },
    {
      "cell_type": "code",
      "metadata": {
        "colab": {
          "base_uri": "https://localhost:8080/",
          "height": 531
        },
        "id": "kYRSPJejRh_q",
        "outputId": "3cb305d3-6450-40bd-ecf3-5ba825f26f55"
      },
      "source": [
        "import matplotlib.pyplot as plt\n",
        "\n",
        "plt.clf()\n",
        "# Melakukan pivot data dengan pivot_table\n",
        "df_piv = df.pivot_table(index='is_churn', \n",
        "                        columns='Product',\n",
        "                        values='Customer_ID', \n",
        "                        aggfunc='count', \n",
        "                        fill_value=0)\n",
        "# Mendapatkan Proportion Churn by Product\n",
        "plot_product = df_piv.count().sort_values(ascending=False).head(5).index\n",
        "# Plot pie chartnya\n",
        "df_piv = df_piv.reindex(columns=plot_product)\n",
        "df_piv.plot.pie(subplots=True,\n",
        "                figsize=(10, 7),\n",
        "                layout=(-1, 2),\n",
        "                autopct='%1.0f%%',\n",
        "                title='Proportion Churn by Product')\n",
        "plt.tight_layout()\n",
        "plt.show()"
      ],
      "execution_count": 141,
      "outputs": [
        {
          "output_type": "display_data",
          "data": {
            "text/plain": [
              "<Figure size 432x288 with 0 Axes>"
            ]
          },
          "metadata": {
            "tags": []
          }
        },
        {
          "output_type": "display_data",
          "data": {
            "image/png": "[encoded data removed]",
            "text/plain": [
              "<Figure size 720x504 with 4 Axes>"
            ]
          },
          "metadata": {
            "tags": []
          }
        }
      ]
    },
    {
      "cell_type": "markdown",
      "metadata": {
        "id": "DwBFXvRprO0I"
      },
      "source": [
        "## **Distribusi kategorisasi count transaction**"
      ]
    },
    {
      "cell_type": "markdown",
      "metadata": {
        "id": "vhH6CNrNrQPZ"
      },
      "source": [
        "Selanjutnya akan melakukan visualisasi dari distribusi kategorisasi count transaction. Kategorisasi ini dilakukan dengan mengelompokkan jumlah transaksi seperti yang diperlihatkan oleh tabel berikut:"
      ]
    },
    {
      "cell_type": "markdown",
      "metadata": {
        "id": "y0a1QG4DrSxP"
      },
      "source": [
        "![image.png](data:image/png;base64,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)"
      ]
    },
    {
      "cell_type": "code",
      "metadata": {
        "colab": {
          "base_uri": "https://localhost:8080/",
          "height": 309
        },
        "id": "3B2bkMYKtmoz",
        "outputId": "17396c6a-4dc1-48ab-efb6-e01c29516213"
      },
      "source": [
        "df.head()"
      ],
      "execution_count": 142,
      "outputs": [
        {
          "output_type": "execute_result",
          "data": {
            "text/html": [
              "<div>\n",
              "<style scoped>\n",
              "    .dataframe tbody tr th:only-of-type {\n",
              "        vertical-align: middle;\n",
              "    }\n",
              "\n",
              "    .dataframe tbody tr th {\n",
              "        vertical-align: top;\n",
              "    }\n",
              "\n",
              "    .dataframe thead th {\n",
              "        text-align: right;\n",
              "    }\n",
              "</style>\n",
              "<table border=\"1\" class=\"dataframe\">\n",
              "  <thead>\n",
              "    <tr style=\"text-align: right;\">\n",
              "      <th></th>\n",
              "      <th>Customer_ID</th>\n",
              "      <th>Product</th>\n",
              "      <th>First_Transaction</th>\n",
              "      <th>Last_Transaction</th>\n",
              "      <th>Average_Transaction_Amount</th>\n",
              "      <th>Count_Transaction</th>\n",
              "      <th>is_churn</th>\n",
              "      <th>Year_First_Transaction</th>\n",
              "      <th>Year_Last_Transaction</th>\n",
              "    </tr>\n",
              "  </thead>\n",
              "  <tbody>\n",
              "    <tr>\n",
              "      <th>0</th>\n",
              "      <td>29531</td>\n",
              "      <td>Jaket</td>\n",
              "      <td>2016-06-19 02:44:34.395999908</td>\n",
              "      <td>2018-10-05 05:48:02.608000040</td>\n",
              "      <td>1467681</td>\n",
              "      <td>22</td>\n",
              "      <td>False</td>\n",
              "      <td>2016</td>\n",
              "      <td>2018</td>\n",
              "    </tr>\n",
              "    <tr>\n",
              "      <th>1</th>\n",
              "      <td>29531</td>\n",
              "      <td>Sepatu</td>\n",
              "      <td>2014-07-23 01:02:11.493999958</td>\n",
              "      <td>2018-12-25 11:02:41.269999981</td>\n",
              "      <td>1269337</td>\n",
              "      <td>41</td>\n",
              "      <td>False</td>\n",
              "      <td>2014</td>\n",
              "      <td>2018</td>\n",
              "    </tr>\n",
              "    <tr>\n",
              "      <th>2</th>\n",
              "      <td>141526</td>\n",
              "      <td>Tas</td>\n",
              "      <td>2017-04-28 03:12:27.000000000</td>\n",
              "      <td>2019-01-24 09:40:02.000000000</td>\n",
              "      <td>310915</td>\n",
              "      <td>30</td>\n",
              "      <td>False</td>\n",
              "      <td>2017</td>\n",
              "      <td>2019</td>\n",
              "    </tr>\n",
              "    <tr>\n",
              "      <th>3</th>\n",
              "      <td>141526</td>\n",
              "      <td>Jaket</td>\n",
              "      <td>2017-04-28 06:52:52.546999931</td>\n",
              "      <td>2019-01-16 13:00:03.911000013</td>\n",
              "      <td>722632</td>\n",
              "      <td>27</td>\n",
              "      <td>False</td>\n",
              "      <td>2017</td>\n",
              "      <td>2019</td>\n",
              "    </tr>\n",
              "    <tr>\n",
              "      <th>4</th>\n",
              "      <td>37545</td>\n",
              "      <td>Sepatu</td>\n",
              "      <td>2015-04-16 10:01:38.530999899</td>\n",
              "      <td>2018-11-22 12:53:41.529999970</td>\n",
              "      <td>1775036</td>\n",
              "      <td>25</td>\n",
              "      <td>False</td>\n",
              "      <td>2015</td>\n",
              "      <td>2018</td>\n",
              "    </tr>\n",
              "  </tbody>\n",
              "</table>\n",
              "</div>"
            ],
            "text/plain": [
              "   Customer_ID Product  ... Year_First_Transaction Year_Last_Transaction\n",
              "0        29531   Jaket  ...                   2016                  2018\n",
              "1        29531  Sepatu  ...                   2014                  2018\n",
              "2       141526     Tas  ...                   2017                  2019\n",
              "3       141526   Jaket  ...                   2017                  2019\n",
              "4        37545  Sepatu  ...                   2015                  2018\n",
              "\n",
              "[5 rows x 9 columns]"
            ]
          },
          "metadata": {
            "tags": []
          },
          "execution_count": 142
        }
      ]
    },
    {
      "cell_type": "code",
      "metadata": {
        "colab": {
          "base_uri": "https://localhost:8080/",
          "height": 297
        },
        "id": "55qTALMMtQYg",
        "outputId": "d2994587-829b-4cd0-d8e6-366f859aaafc"
      },
      "source": [
        "import matplotlib.pyplot as plt\n",
        "\n",
        "plt.clf()\n",
        "# Kategorisasi jumlah transaksi\n",
        "def func(row):\n",
        "  if row['Count_Transaction'] == 1:\n",
        "    val = '1'\n",
        "  elif (row['Count_Transaction'] >1 and row['Count_Transaction'] <= 3):\n",
        "    val ='2 - 3'\n",
        "  elif (row['Count_Transaction'] >3 and row['Count_Transaction'] <= 6):\n",
        "    val ='4 - 6'\n",
        "  elif (row['Count_Transaction'] >6 and row['Count_Transaction'] <= 10):\n",
        "    val ='7 - 10'\n",
        "  else:\n",
        "    val ='>10'\n",
        "  return val\n",
        "# Tambahkan kolom baru\n",
        "df['Count_Transaction_Group'] = df.apply(func, axis=1)\n",
        "\n",
        "df_year = df.groupby(['Count_Transaction_Group'])['Customer_ID'].count()\n",
        "df_year.plot(x='Count_Transaction_Group', \n",
        "             y='Customer_ID', kind='bar', \n",
        "             title='Customer Distribution by Count Transaction Group')\n",
        "plt.xlabel('Count_Transaction_Group')\n",
        "plt.ylabel('Num_of_Customer')\n",
        "plt.tight_layout()\n",
        "plt.show()"
      ],
      "execution_count": 143,
      "outputs": [
        {
          "output_type": "display_data",
          "data": {
            "image/png": "[encoded data removed]",
            "text/plain": [
              "<Figure size 432x288 with 1 Axes>"
            ]
          },
          "metadata": {
            "tags": [],
            "needs_background": "light"
          }
        }
      ]
    },
    {
      "cell_type": "markdown",
      "metadata": {
        "id": "ZjHao3E481pq"
      },
      "source": [
        "## **Distribusi kategorisasi average transaction amount**"
      ]
    },
    {
      "cell_type": "markdown",
      "metadata": {
        "id": "SnN0Kg5y9QGj"
      },
      "source": [
        "Selanjutnya, akan melakukan visualisasi dari distribusi kategorisasi average transaction amount. Kategorisasi ini dilakukan dengan mengelompokkan rata-rata besar transaksi seperti yang diperlihatkan oleh tabel berikut:"
      ]
    },
    {
      "cell_type": "markdown",
      "metadata": {
        "id": "KSJlEH3i9aAH"
      },
      "source": [
        ")![image.png](data:image/png;base64,iVBORw0KGgoAAAANSUhEUgAAAYwAAADzCAYAAACVOiHqAAAgAElEQVR4Ae19sW/0THOf/yB3V6l6OlVPpU6VOlVXqVMlNyoCHBBAVQAXggshgXEVESAKEkdGDNlfAH0uzi70pbk0cnNuPlXqJpjZXe7McMklb3kSeTcv8LwiObs7M7+Z3d9yyVv+Bdh/hoAhYAgYAoZADwT+okcZK2IIGAKGgCFgCIARhiWBIWAIGAKGQC8EjDB6wWSFDAFDwBAwBIwwLAcMAUPAEDAEeiGQJIy//Mu/BPtnGFgOWA5YDpxmDrSxRythtFWw64aAIRAR+Ku/+qt4YkeGwBEggJOEtv+MMNqQseuGQA8EjDB6gGRFZoWAEcaswmXGzgkBI4w5Rcts7YOAEUYflKyMIbAHAkYYe4BmVSaNgBHGpMNjxs0ZASOMOUfPbE8hYISRQsWuHQaBz3eo7m/hdvUM26/DqJhSq0YYU4qG2TIGAtMjjN0bPN3dws3NTfx3ew+P1Rt8fI7hcmjjEz62W9iO22ho/IB/f9LuL/j82MJ2u4O9xvvPN7j/vYDF5QNsRo3lAeEuaNoIowA8qzpJBCZHGF8fz3BztoDFovnvbLmG95EGGtRz+2sBv+9fYTfJ0KSN+lG7v7awXhYM+EYY6aDaVUNgJghMlzBuKvgI09jPd1jf/ILF4jesXvnw7mfb2w9o55H0jPxrW8HyLE0YX7sP2L6/d999fO5gu93Cxy4YySPuZuLv2y0kxbyoPyad6Edo7gvbf4et8q3Lbmipk1AnLwVfahAdZg37P9/h8aqFMProFoTxBTu6W2mPnbubSWHo6pJ9tc3RpT7xa+Adq492ZHcYo0FpDU0EgXkQBnzBdn0Ni8UvuH3+IOh2mzXcXrC7kIs7qPztx9f7I1wuFnBxcw83rMzvuwq2X1/w8XwLZ+oO5uz2BbbbF3i8+S3ubqgODUpowxIWi3NY3t1S++4u6BfcrDc1YX19vMLD9Zlow5W7gNUbH914ezfwm+z5Df/hv/0BnldLOOf2Xa7g5ePPrXZ/7N5b6gT2aWZbjdHtHSzPHY6Xf/0P8L/X93DF7/DOruHxbQdf2zVcc5vw+Pc9/NP/G6A7EMbiN1zi0lRo7+IOnrcRm6/dGzzenEf54hJWz1taBiPZkuN7DjdPb0TMn73jF/GWE5AmTiVXjDBK0LO6U0RgFoTxtdvAEw0SF/Dw9glfHy9wh4Pc2TXcP65h/egHuatHWrIKgyEOSL+u7+Hx6RFuL3GAcncon9tXWK+WjjQu7+BxXcHz659g+3wL54vfsFw9wXr9BPc08DuS+iLSQsLwg+vdIzwFvb9u4Rlvh74+4PkOB7pzuHl8gbfXJ7ilgfE33D4+w6a+ZcJUCITh2ru4fYCnpwr+6Q//me58Lm4e4Gm9hse7S9J5sXqFbdLuLfz5fd1ah9+P8QTkGC0Qg6cneP7DH+gO4uzqDh6e1rB+uHVEdvUIm397h5ene7hC/8+uYfW0hur5Dbb/MkB3TRgLWFzckI7H+yuH6fWTW2782kJ1g4Rw7uPgY3d2A9V2B5tHV/7q/gmqag2rm0tYPiJhu4lA3/gFvN/63gJy8HoeG2H0BMqKzQaB6RLG4gKub25geRlnk+d3z/Dx9ekHjd9wXy9PfcH7E96BXMLj5hPCYHh2g3cULhZ4V/FrsYDrtZ+p+rsQ8Qzj6xN2cU0IPp7vaKZ/sXqjAcndYSzg+und31Hs4G2FdyQX8IBPcXevcI9E5onLkQLa5eUiLSJhnN+iX0H4BZ87NtveVu6ZjiJDYTd01wkt878Bo8XFPdQwIo3tdvXdEnxu3BLU2RIqBDIM+OKh9QDdoT7X+fXhCeIKnt4/Yfe2govFAi4fEHP33+fbA127Xv8z/P29w/v+5aP54L1n/CTeHJVxj40wxsXTWvt5BCZMGGzJAgf6x1c3qOIsnmagC7i4jm9SXV+4WSmSSBgM+aCKAxEu+1w+uOWjVBkc4D/eKni4vRRLVrhche8FOcI4o2UxN75/wjvNeM8deX1u4AHvZOoB8RPeHi5qIpPhTrXnSrg7oBsaJMMdDS7/4IpW2m6A1jr/voXqfglXV1fu3/WNW2JKESYSxqe7k1jyJSMk4vc2wujQHUb84HggDEE4EcO7lw+/9LiAs8tlfEvu2i0TYuz+bfPo7nIWWOYOHl/e2XOiofELhh3mrxHGYXC1Vn8OgekSBj30/oKPFzfLr2eF9Yx0Ab+v2aCCr+He3sP6Pd5hcML4rGeubYTxBe/rG0cU57jUVcHz+p6eVbQTBt7Z4BKJJwwklcrdySwurmF5jWSxgLObdX2nE0OdJozPzaN/VnABNytcdvHLWh2E0Vnn37fwfL+E6+tr9295C0/4TCJFGLtXWNHS3QIubx9gXVXwSC8btBNGp+6ehLF5xGW3c0DCcHeKSLrXkTDoFevb+jkGkeN9fM7zm+4894lfjMYhjowwDoGqtfmTCEycMHDKG9a0wxLUJ7ytcCDGASa9Qp8aDLOEEd4A+n1XL9GEB739CSMul10t8e7nFu4fX4A9z2WxThFG8O2SntVQ4XDX0koY+TpMaX2YwgjJmZbtnt79cs8OXmkJqI0wBupO3WFgfOn5FC5JuQkC2nDBlqRqo9UBPdu6xjvRa3j647+45bNB8VMNjnxqhDEyoNbcjyMwfcIAAJzF0sNWv5TxuXly5+c38Piygff3d3h7eYLHqu3uAZffw9q4LxPe+sE3kDbvsPnjP8Df4CujZ0t4fN3A++YFHpb4Ku8CehMG/k4BB7Dfd1C9vZNdaFv6x4EthEFLWOdwu36D9/c3qFb+oXAgDG33+5/gHzN1UlmWIoydv5u7uK9g876B1/WdfxssEIZfcltcE0abzR/h7/6jI+82e4XuQBiLC7h7eiUdzw/XdFdX34Xt3vxdzm+4W2OZd3h/e4bHx2fY/vsHvNxfwdX9Gt7wOsbIx6z613+Bp8HxE9aNfmKEMTqk1uAPIzALwsDfF7iZ7gKWa5z9fsL2+U6u8ePbO/g2T8s6vyYMeqPp1hECPSe4+mv4X3/rl5PC656/frvBrPUZhl6SCncY8vkLtn9+q390mCIMJMcnuOavtS7O3Su2njCadj/CH/+QqZNIshRhwO7NPYMJ/i/O4JxeufWEAbjsE98UQ3L92//+N932ct01YSh8fuNrtfVTf/jcrOHGv+pLsUF7fi1h/cd/gerevTVWX18s4OrxzT1jCsuBwf5s/Lhx4x8bYYyP6c+1+AW77Tu8z25niHERmxxhwBf+aMzNyuMQgrcZO/9jurgtxdduC2/PFayrZ3jdsB+AhR+R8eD6H6dt+WuUXzt4f32Gqq6PSfEKz1UFz2/4g7FP2LHtQ9wPwrbwUb9JhW8VbWH7jtfw+IW2vvi1dOv/6/WaXs9dXad+dIjl8QeCsj0M79fuHV6fK6he3mD7GbbjkP5Ju3vU0XmTwoiUf8DmpYKqeoHNxyd8fX7QDxQjbJ/wsXmBijByD5yz9ta6w48od7DbbuAF23jZsDfE6oLokIsNvfLMH2wDfH5s4AXxqZ7hTWxTMjx+TOPohydNGF8f8PJwB7f3a7ENzOd7BavbG7hdVb12bQg/sIz5N3qYejUYfjC7OLtxr9D3qnV8haZHGDPGONzFLP2ru86VHbzSMxf9w70ZO2qm90LgtAnjHZ5wefb8DsKjRvz91D39kPYKHjfp548SWLxjxzvKa1izO1BZ5pvOPjfwdHMBF42Vgm/SPxE1RhgjBiLcYeBySXjlN/yOBN/k+emcH9FVa6oHAkYYjDA+3/2Pb8/htnK/heIQ4jYw73i3LW4lwksVacJwdx+6TmjV382qrXWCFF+hp9UDvh1PFNZH4Q6HLSrUslM8MMIYOepfH2+wXt3CzfUFnOOrobf38CR+KzCyQmtusggYYXjC2G7h5d69Yn71gM+bwn9f8PH6BHf+VW73XMpvtRPeDgzPo+ivf5ZGy13uZQlX5wyuH/zvtABg9/bUfAaG9f3dTmNbobNreHgNPwQNzxZxCyC2hcz/+LuT2mk5REj/NcLQiNi5ITASAkYYfvueO/+m3+UD/fg0wosvs1zAgn73tIb104Pf12wJ6z99wOb5Ce5oCescbh6eYI3P1Xa4PQzunrAA2t5l/QQPtP+b+x0P7jW2wjpIAs9v8Frdu5djzpfwUOH2On5bocUF3GKbTyu4/oUvYeAyGf5wKBCGezGj3kJm+49GGABghBGz144MgVERMMJQb8MtLtRu0+5llrgKFZ73/aIfcQLs4OUWd3CIS1L1PnJh7zGM2O6V9pb7dfsMf/LbyLjtfHD89ztDnOPvq+JbjO5tSxfu3avbBeL8ju/ogG82si17wht+YpeCUdNlFo0ZYcwiTGbkHBEwwvCE8WsJD08r99sp/+p7Hc+vHWyeH+Huiu9OjK/P43OOJmF8bty+YovzK1iGj6wtr9yr59dPsPmT21UZyYP2Z8NnJ/TbqHt4/QjbCrkfidY2eMJxH/YKdxh8CyAkttP6+FeNjTowwlCA2KkhMBYCRhhIGJd0V/H1hRt1uucY9eyednd2+4T9usJdo5+henDLTVnC+HUZCcMTxx3uN/dn/HGna/P8allvXnqNOxrX2wpd064CdZx3ngwuVrD5NMKocUkcGGEkQLFLhsAYCBhhxAfNiGe9nHTuPgcQftuAu0q73Zrjt2raCCPUWfAlKR4s/NgabjUT7kBu7+DheeM3qAxvXbnnHaFa2EnC2WGEEXBJ/TXCSKFi1wyBERAwwpCEgQ+Uw04B+H2Xj3rr/ge3Pc9L+H5MXJJyOzzgm1NvsNls3PYw9M2ZBVzeV36LmFeoHp/g5eMLwieMf908wesmbM8TX73l2wo94RZAb8+wwi1lcG+6Z3xTygijK/WNMLrQOWLZ1/YZVre3cL8O3/YY4Cz++vs99enUAW2cQFEjDE0YtDGc2yQS30r64/+tl4/c67ELOPvttusJP37Fb6Hg1zPDK7e4ozF9dbHxVUs/4Ifvztd1Qt0zWNIWMultha5RRltLGGF0dU0jjC509pKFrTziFiZ7NXPgSsm9pHrpDLf18dsivaqdYKGTJgx8ZI0/xkv8cC5sp+O26fmE7Zvfnud9B59fO/jYxjsCTJvP7Rtt10Nb5dSvVOEWNbiNj//yo78eCCZ8kZG253l6cL/LCF/G5Nvv4Ku6ajvp9JY9fssisRXN6SW1EcbYMQ8znIm/frc/YeAW5Pdw9Zv/2GlsEI+jvdMmjJ+IYdgM1H15s7YgfDkSf7j3UV+1gz0QMMLYA7TOKuG7Gq2E4bcsqGdKuJlealsEqSVsg8Cq1QXCjE1uq+DFYZNBNdPrRxhhlrgF9tXYWq8ddCNghNGNzyGk4Q5jsfgN1/RNmiVc0c7HZ3Czz/LrIYyccZtGGCMGL3xwKazH0l/clvzf/Gt7V7dwd+W/Ub78L/B//r5lWwSyCd9B/0W/WL27u4qfjD27pk+sUhHcIiF8L8Ov2V7crQH3dcMdZJ9X8at0ZAt++8N/PLxBGLi5Gn2MCH9c9QF/3r3BI33YKKwBn8PNE67ztqzxjojjsTRlhPETkfyC3aaCh7sbuL48h99XS7i9f4TnTdj64ydsOh6dRhhjxtJ/D5s+9nR2Dasnt776Ed7zxkH9F37+9QnWL/8M/7NtWwTapTD8aAkHbLeNwdNqSV/EWyzdJ1/xO+UXiwWE7dSf7pdw6XfT/Hpfw/JsARc3D/C0XsPjnfuOBL6dgnv5CMJA4qG9fsIsLP4iNqwFr24uYYnvsre9RTImjkfSlhHGkQTS3KgRMMKooRjpIPWL0HCt3q/G6/rc+Tcz8LxtW4QLeHjz27XVa7H38LqL76zThm7i4yHY3hd8snUkfH/9Bj/MdPVI3yGoCePuGV6flnQHc4lkQu2ED1ZdwD2+lSKgsTsMAUfHiRFGBzgmmiUCRhhjhy2QA3+GkbqGegdui0DfN1/ixmr+Iy67V/85U3/n8vQqvh/+uX2F9epGfpkwfOr1/dG/ruiXyNgbJGha+DETLmWdXd7BY73jrhFG35QxwuiLlJWbCwJGGGNHKkUOqWt7bIuAG6lVN4ww/OuBL093cEU7bi5gcbmC150b8K/pucYF3KyeoKr8j6IahBGeUSwgLFcFSIhw7uNzEPymx4c9wwjwZP8aYWQhsgIzQ8AIY+yApcghcS1scTBkW4QUYdTmf33A6wM+pziDm+c/wT/Svj2X8PCGWza7H0w94HcHNGGc38B6s4GKvm+O5ePXCkLbX7vwQBz34PkzbOm73mpztlDY/tYIGGHUUNjBkSBghDF2IOsPv1zD4+sGNpt32IWH3myZKj5TaN8WQW/tLAnjz7CtbuFyuYLnN9wCYQPP9OAat4b+E7w94EZv53C7foP39zeowttUijB+37uH4J/+ITk+49j8Oz4Ev4Kr+7XfeuEFHnD7hLMlVFsjjL4pY4TRFykrNxcEjDBGj1TcL4deZcVB9l8TH1+hN5PcrppUDp8ViG0RwltS8VsAkjB2sFnfwm+1BcLZzZoeauOeOdf4kLuWn7stoFsIAyC+GXX9n/4r/O29e6sq1l/AFW2tYM8w+qaMEUZfpKzcXBAwwjhIpHDbgheoqopm/7uvtm0FurdFoB/0bT/Ym1Ru2xHabsG/uvT1uYW3l4p0vbxtwS9AkVf4W4zX5wpoS4XPsGXJhysTftD3wWrQtgzv9XYOnx8beMH61TO8sS0R0lsnHATIWTdqhDHr8JnxCQSMMBKg2CVDYAwEjDDGQNHamBICRhhTiobZclQIGGEcVTjNGfumt+WAIXA4BIwwDoettfwzCNgdxs/gblpPAAEjjBMI8om5uBdhYEewf4aB5YDlgOXAaeXAXoRxYqRq7hoCeyGAg6n9ZwgcEwJGGMcUTfNlUggYYUwqHGbMCAgYYYwAojVhCKQQMMJIoWLX5oyAEcaco2e2TxoBI4xJh8eM2wMBI4w9QLMqhkAfBIww+qBkZeaEgBHGnKJlts4KASOMWYXLjO2BgBFGD5BmUWSzgsVqkzYVZYsVtEjTdexqMQJGGMUQWgMTQ+DICGMDK9ydNTlw7qDCr9X53VuXlf7uQ06uIrerYFnvBLuEZnOFcqUud7pZLSDpNlbMEAbWDbgkiaXUV2082RN0JoisVK71/dD59xOGz+FlRd9tH+r2rlrCYpHIZWwoExORQ62JGC3KlS+VR025I9nvFxo7kfstOZvBRltQ6luuvtY35vnREIZLdh/QRMISyPV1Ryz1KfUHTjRNuQRdySlh+MBXKpfa8meoj+tXNRr2BbmzkxOsw5G3NbIv1AHjoET6eCctlQfXJvD3WwmDD1ocz144+DygCVCMTV01ExMZQzcANydkdWuQK18qj5oyR54MuK00TnD8qAzvD6rNDDaq9HR814b1PD8awgj+UrJxJkCBCqq7tIR6NpGTh8b9X5nQ1BrdvYTEK5UrdS7Juu5mcLAQPvMBYAGrCu92OpKeK1RYjO2LJG5ULAmpVM5d+enjbyWM4CzmAh/wwvVefzEWTcLojomMH6lpnaCgNFe+VN7L0fZC2nZ9rmp2Y6MKT913bW7i/DQII9WJeCLk5Ao4TJJADkHEE6dUHtqkv2oAJ/JTAwLqi3zhOhy3j2zbkzBG9QXc7DPaih7yGWmpXCD34yfHQRiZmFB+qsmIzlkeiVz5UjnXtc8xHxewfmpsqNvNYFOX8welvuXqa30HOD8JwmjOksNdh0v0nFzizge4KKE2aCQslcc26UgnsBK7ATd22KQv2TZio0QuNSGN7EtqhuWXAx3BJWaXg+TRjykcHQdhZGKSzC2s07xToZjkypfKiwLv8l3crZM94dmF+xsnPBlstC2lvuXqa30HOD9xwnBJnRxkic1TSd8xiNJAWypvRtndISzSSw1oZ8xgoLLsnFpLJlpTj3uwyX0e25f2DuY6aak84dMPXjp2wqCYJXMrHcf2XGTlc+3l5DzeVDYO9rpb8KJ4TOOAuhPf7fCLk/EFGVcm9BFmN2ss2QdRnrO9VM5sONThSRBG8raSBweP61m1h5rLFfqYEHzJB8U8SUrlSl19SjrwWQbLfEzgaEtihuSMy79WS/6m/YrtO1OG+FobTwfOPma+LUlJgMrPUrncu1UcAMNgGCplYjZ0mSRXvlQezB741xEBX9pta4BPojLY6CZKfcvV1/oOcH4ahEFAy45ACRJIIidXwIu6JONJ5Gcqoe095EqdPBVEhnqlXzSYC91tMxvWrCcLTkRBWupraCf85WTjrslZWqk86JnC3+O4w5CToWbMZPxILnJURyJXvlSu9eXPA1noiVG6puzruXyVbZT6lqsvtR3i7DQIQ90BpN7UkIFXgfEDapwZp+TxOUKj/UYHytVnod6s2B2EIiMkOk0ORH78TsElePL3FaimgyycFTlbM3KNnSLnBiGVyhl0P304HcLwOaBzpQEQxlJOQKhIJiYyhnJADS818Dv47vIqx8VLEc7gXP2GWx0XqK0F7y+ssPIbJa486+uqTMq2qfrOPO19eCSEEQbFuF5JP0QTHUSWac4m2uXJpKJECfraOlmB3Idws6nEDw75wI92Nf1gJFC/V48DAUvyOj2kz/HHe3LZy72WvJ8vSewCSZF9CbtK5bV/P3vwnYRBE5761esQq4CtI3WeOwIZgXeoq5ZnRJnQbmxF6I8zK0xG92NalX/t5V2bpfJoWddRsC36HPoA9avdDvAZRvyBLpZr+l5Puhr5HNqXdUp9y9Xv8rhUdiSEUQrDPOtvVgmimqcrR2n1dxLGUQJoTk0OASOMyYWkr0EbWIk7qL71rNx3IWCE8V1Im57vQsAI47uQHlkPLfWIW/+RFVhzxQgYYRRDaA1MDAEjjIkFxMw5HgSMMI4nluaJQ8AIwzLBEDgQAkYYBwLWmv0xBPYiDOwI9s8wsBywHLAcOK0c2IswfozeTLEhMCMEcDC1/wyBY0LACOOYomm+TAoBI4xJhcOMGQEBI4wRQLQmDIEUAkYYKVTs2pwRMMKYc/TM9kkjYIQx6fCYcXsgYISxB2hWxRDog4ARRh+UrMycEDDCmFO0zNZZIWCEMatwmbE9EDDC6AHSLIvgZnFtvwSnjeTkhmiz9HHiRhthTDxAZt5gBI6XMMTummrnzbDdudrdU+78KndylbIEzmJXy8SmgKXyhMquS7ijZRtfpL/8FVoLO2zyHTyVP2P7ImKVILJSeXDtm/8elDBEDFq2597bX5n7fHtubDLsQBx2dqW/KtmG7qiaK18q7w2FwtX5qHJy5Hws9S1Xv7fvPQoeJWE4AFmQfRLwnMYyXSRAbdQV3CBanzaAVXJKKKZff8t6sLyhMHMB7eH6VfGGfi7HuooguHhsXyg2UR8NRnxTxVK5sP17Tw5FGG7AjpiFLcS78rm3576v8LaoL7CY5PYxkzF05MPb07bkypfKtb7Oc/K/o++MnI+lvuXqd/q6h3CWhKETOO+3Tlp9rlpQSYFSGRhZvimT7ZfKpTY9w+MDhy+JhCDYzRFamBGuKtzjv6VTJHzn+sf2RRIzapLkWyrntn/38aEII+VHE6dUKUpk+r6DSI+WovVlNcHo1iXjR22o+nW7TkjfyxD2iPK59nJyqS17JnQ3Szd9l/pzctmirEsyob9ULrWNcTZLwojAumWTrtmLA0kO4OErYCJJOZoYNDajivrSgywmibaBJ06pnJvmPmbESAIHeGUr6ou+uaTj9pFtnYSR9hPtGNUX/zW1aCtq4LFyx/vLBXLffjJJwiAUHK7J5ZYUSmIQS+dAXY0mHCp/uiYhufKl8tqwngepvl9XHTkfS33L1a/tHu9gvoTBMKBZLz2PYAMpk7s1ey7jHcav1bNBtzmLDjMz1RFIh2uLD8h4mdqgka5Uzh2hETv91a+6GOqLdiZ9UQNAXdUZrr4wxslwZF/U3USwI5JSYoYlSCsnDy3+zN9vIwwaOPgkYYi/DsPUcwjXios5v2N1Ew7+jCvmW/r5GOrg/Y/Zl8xFVr5UzlT1OiR93DeOay7fcnJlQalvufpK3RinJ0AYLohyQN/BZlXBpkbQlQmdIjnIUqdMJX3HIEokVCqvjawP6g7LSK4Wop1sSk5l2TmVSyaab2G3gVUVkQmfn3RNjO1LewdzsSiV16j8yMH3EEZzQB/mrM99nHDpPAkTH3E3uoNdVUG1C1q8/pCLydxKx5FayJUvlQcz8S+1Fckg4S59krWKzvkH/KHfp/2IfSwn58YEexjZOkDiEt2YvivV+57OlzBY8CUZcCh8ZwjJzEX6mAcHj3UdLld1MWG0DTGJ0rfwQ+RKXX1KbaiOjmQXbWkZTDp8qRtnB0NsxbJRv2uE12fN1stPsuNyUnLH+8ultu8+Ozxh+PiKAb2Pl6EeDp56wIr1aeK04DPsKBNHfDJFx6pNLhcVW+7ceflcezm51jf4/ID5mLO9VD7Y13yFWRIGDUB6QG/46smio0OIKnwQpUCFWYUrlbzr8A00ZTzJUg/Mh8mFnfqE203r/9LuJFaijm6wec4H/FJfdeu8bSeTs7RSudb3neeHJYww6Mt4Z/2j3M6TQCALTf7J9kV/kfGj8p35litfKk9aPOCi7Kvj5mOpb7n6A9zsWXSWhJH3zQHZNntqCzrvHLKMCgx1AN7pUnI+yyqVM483KzGDFwM4dlxNpH6AiL6FgYbbF9pXduJl8pUPSqpMYzDolruBiLUnBpsEuZbKg2s/8PdwhBFiyHAU/nm5zgVRpv2kiyxEvlETXhe7DZRlnLyRf8y27vI6J3R7eXm7p0qicg2lDgvWV1QZaXu4Y4pxkfJmXFLyiFXet1x95WHx6VESBoGofpQX3wjZwW7nlonCa6b4lwfJoeqD69vh8tA+v+beXgrrozFh6ghRohXIfUObTQXVMrQjlxTQLmFTUO4JzvmLtuGgzjpBKLfbwc4/iI7YjOsLEbFe5hD2JewqlQf/vvnvwQhD4MFzIcTKkXbbhKkbhlCXt+uOMbd2mC36pLoAACAASURBVCPVEmJ+pJ99hDhTOUYm4bVpbVt7eWdtqbzbZy9F30Q/lf2rbkPgPyRfA7ayTqlvufq13SMcHCVhjIDLLJvYrMKAMUvzj87ogxHG0SFlDs0FASOMuUQqa+cGVuw2P1vcChwcASOMg0NsCr4ZASOMbwb8UOpomUDc+h9Kk7XbFwEjjL5IWbm5IGCEMZdImZ2zQ8AIY3YhM4MzCBhhZAAysSGwLwJGGPsiZ/WmisBehIEdwf4ZBpYDlgOWA6eVA3sRxlTZz+wyBKaEAA6m9p8hcEwIGGEcUzTNl0khYIQxqXCYMSMgYIQxAojWhCGQQsAII4WKXZszAkYYc46e2T5pBIwwJh0eM24PBIww9gDNqhgCfRAwwuiDkpWZEwJGGHOKltk6KwSMMGYVLjO2BwJGGD1AmmUR3CCt7ZfftHma3ABtlj5O3GgjjIkHyMwbjMDREobYwTGx42z4dnTYdbO5y2v7brVJlMUul4lNAEvlSaXtF9H/Nr5If0YT25I+B2zob71PVdhxk+9mqvzN+arN3nv3T99Qrr7W903nByUMgfGi+cGvEh9129R/5ARD9K9EouXk2rxc+VK51pc+T+W2z/PgYw9s5Jf9JG4pvaW+5eqndO577agJo0kCESYCOSRB4tvSOXlsCY9cosXmVupLZqVyqS1/hvo6EnXQHYaynXxVBCEMUuVzuqgDxvZoT6yanHLfF+ghF7Z978nBCENhVhN9nYCFflL77fkjY+QmGbyv5eTaulz5UrnWN+hcY53Bxn3moCOflfJS33L1lbri01kSBg3mfFBpwNBMYlFEJwGNO8s4S8vJRWP6IycolPplUIfLlTr1PYKYnHU5HKTF4OEG8XDHsKoqWHYRSt2Q/24IbyuBDSvubBOxkVjwsngsiZmuxG8ajyDX+r7z/GCEkXCimWOJQniJ4tdx94llOkleTQga5XNybVeufKlc6xtynsjdTmzy+Sy1l/qWqy+1jXE2S8Igxylw8cMuEgwXaD7OCTnWFYOa6iQ5uWjMJQmfYaGYD4R4XCIX6vSAjefKF9QXfXdJxfWTbX0IQ+tCQ+ha++wz56vwxRNrtJUU0AeinL2pOPJOnJNLbd999m2EQTHhMc956nBzE4hELFP5H5pMxZ/nSU4e2gl/c+VL5UHPPn9pjFH4dGGTzWdlRKlvufpK3Rin8yUM5j3NrmidNcy2eYfwa5BsUE3Oxhj4OTlT3bibCDJqg0ZCPsAFqb8r6SWPdegolcSiCOqLSZ70JduGa5CIRY7m9Qw13K3g30hGOV+FoUir4m4iSCPplMpDiz/z99CEQbFNPF8Y5q3DmOIZYk35wZ9RMTJK5g624fteTq6Ny5UvlWt9vc/TuSyfTziMAmz5fFbKS33L1Vfqxjg9WsLYrCrY1Aj5TuEjmxxEiTBc0ufkdbN0kE6s2EapXGrDM3eH0PKgE/2IGSzudOqWkolWS/1BerAG/LxrFZENHcipzPnaT0ckqrQN/eVa3/eeH5owojcyv+P1Pke+LhJP6B+7CqpqV1d2xJQjBE8qydxKx5EU5MqXymsvwipCJELWTXgpd8zGAy7ET7i2YtMxAQrY8rbSS38MqzF9F4r3P5kvYRCYLvhxhtsBBAcfj9kdB9UaIldq4ow4CuKgVr5kFVuVR6SDdXSUYueOeLgBvJGs3FfZZDxjd1zxYvpoiK+yBWef7LicdErlUtt3n30fYYTBMNxh5zz1edH77oTFJJUXfHDNybVpufKlcq2v73lqjEjWZdjYklQToS6GaZY+zBUaoPSAn1PFB0me4L5evCMI6/Sy8wm50tWU8STyy0/C3mFypU6ecr8oYaXdSaxEHdlcOGv6FCTNv5wwmvWkr7o2r+tkbIYV7qYEowyTa33fef6thJHI6aSvVI4tMSUL6Ys8hhJ/KinyKSfXbefKl8q1vn7nzbxsq8exkc8uXY2E/XVTCdkgLHP1a0WjHXSN/3+R0tJVIVX+J641g+2AjTNvHdgm8LINJaeg8k6XksfnCI21TZEUiFCuPkNxs2J3EIqMcDAQxBTIr/mcYZF56N0c+BN20iV8hZiTVLcv1C4vrwa6ht5SOYPuuw8PRRgOQ55fbtCKd836fIDnCm+sqfXJGMkBsy5f56GWN20ra0/1AT/L5319gPd1Udn//eUe2HS/VjsP32sQEgdd4/9MCWMHux1b56fbbj5gBhR88PaQuw6k2qRkCuujfADlyVYg981sNhW9RRQfOseBA+1KdhRPcK4O2oaDeqwXEOF/0x1mBztPblH/MF+p3QUn27CcErBJ2CXs30POHfvG40MRBroQcrCOQz1Ao9SRdm5SkIRih/0HX7sO8cC/TcxDHEm/uAN0rbbL07a1l8+110+e9LX1oiY5X7AnNuG5nosNx24OvreCQoIjJIxuh49ZulklBu9jdnjivh2SMCbuupl3pAgYYRxNYDewErPMo3Fsto4YYcw2dGZ4CwJGGC3AzO0yLVEklgbm5scx2WuEcUzRNF8QASMMywND4EAIGGEcCFhr9scQMML4MehN8bEjYIRx7BE+Pf/2IgzsCPbPMLAcsBywHDitHNiLME6PV81jQ2A4AjiY2n+GwDEhYIRxTNE0XyaFgBHGpMJhxoyAgBHGCCBaE4ZACgEjjBQqdm3OCBhhzDl6ZvukETDCmHR4zLg9EDDC2AM0q2II9EHACKMPSlZmTggYYcwpWmbrrBAwwphVuMzYHggYYfQAadJFcGO+tl94N3bFnbQnR2ecEcbRhfTkHZo1YTR27Kx32Iyb8IldMJM70+Z2rVU5InbyjHrqUqXyuqF+B+hfG1+kv+il2vU7wba2wYuX+parz3Xhcekutbn6Wt/I52MThsvlRM7tZXfYOZXvSuuPQzKIeIVyfPdVtSt0qNdhj+iPifKl8g7VSZEbQ3pimsunjDznmzYwV75UrvX1OZ81YaQcJBBZIuJ5cstvX1mWd52IVVcqlJwShHegUrlSlz1FfVy/qtCwj8slUbb7HOqU+parH/T4vzRYxY5MHZtvrlgqV+oOcTomYTj/l7Dk3xIZ22iFqfu2Q3t+yZi0bAnObMyVL5UzVT0OXT66LchjnrVWVNhIW8N3Z2I7Wi7P54ZVRGXShEGDOR8kot3po8YAmQmMSgJsVAZWqmnKZPulcqlNf/MgJmNdDv0VIz3vBAtYVfhdg/YO79pxPohmagXxoNS3XP2oyR1JIsdrknBK5VrfIc5HI4yQpxuMZyIPUsZTnY67z0YdmcskbvQnXknGo7x8rr2cnNs25BjbzWNalm9Dbc+VL5UPwUeWnTRhkKmUtO52uOtOAZJf2soMhti2JqSOToJJo23giVQqF6EJg8TOX8VzZSvqiwO9SyJuH9k2EmGU+parL3zPfhs5FVc+4OXkUtuhzsYhDOaXzoms4a5u80M+iYqpvE/1j1CVbFGTkS77cuVL5cGuwX+x3+QII5dPGXnON21zrnypXOsbcD59wmDO0CyVnkMkApxKeD/wuA7j12DZoNuc9YZbS9URyAbWcbVNNGqXylmjeJj0h5dBfdHOpC/ZNrC9VLJzPbEMJyO6Wi39Hc7Ivqu7iWBNJJ3EDIsgC4Sek4cWD/t3DMIg0g+zAhooErnfyw2HCfWF0F5dLx0/+QzJ9Z+6ajK3OgbfXPlSee3L0IMOm+umcvmUked8q/X4g1z5UrnWN+D8aAhDdKwagB1sVhVs6nMX2LCMkxxkWztlulPFNkrltZH1AfmEBMlIrhainXXv9Q8f2TmVSyZW3YI/cHbrqrJUqW+5+lKbXn4K0hjj9g7qYpuThxYP+7eYMHT8WnOzjx8+9zGfdLBb2sVPtVZVuMUNS6SesLRtZEIadyfCb7/HCY6zmJXPtZeTcwiobHhIz+/CeaFwjDbkSJjZGar5CUqvfBtiO7afK18qZz4MPZw+YbDg6xludLbPoOdLc7DxWA/GXB4V0BEOWNqGOIi5QbtErtTVpzVxsI6ORBV1Of8bA0GHL3Xjve4wyn3LYRftwaNUPDnplMqltkOdlRJGHXf/dh+/U46x77Le5wXV14M1q5fqB0wcD1kMiGRUmy3EQ/Vz5Uvl0ciBR30IozDfcr5pi3PlS+Va34DzSRMGdRg9oKecIwBzswRfkQ+iiXrxjqGpqCljHSj5wHyYvKmRXeF204Aq/U1iJeqwtsRhqjOIAnTy3b6TP4wg9V1Hqbzp4fhXSgmjYVEiXxtlwgUqm5tdu8JNLEMj+i/P58SsuzPfcuVL5drWvud9CCN1By/tbWLI5fzY2zVLrI7li3stHaktiHx2JsuowFJQeadLyfksq1TOknyzYncQ6u0t9FcTqR8gom+uczeXAZgOOmwhjG/2nQiJLw2omDYIq1SuYTjA+eEJw8dY58JAX2Qf8JUVvnjVxSjmu4wJJxMqDdVSLqd2l1c57u8yYz7n5QPd9sWxz8rJV/SVXVd4SF8IHPEGm5bL87lidSyEkWTrHex2fmbAbul5ArqM8Z3Ol+FyCvJCLUNR4oT1UZZQIVtL5SGNN5XrcLXtsqNyO4Nq+ZASbcPOEOvV5fBA2Bn8ib5+t+80aC04OYe13GBbwg9Paq1vAeXkApDxTw5PGG6Ckp8UdPmmBy9fdof9B1/jDfjj32YMQtyaD9PTtrWXd3pL5V2eCpnIjehjuKkNdoRzqivqNLGQ/a8pD23ODisG3KSXpJiddsgQ2KwSRMXkdjgNBEYnjGm4ZVacMAJGGLML/gZWhUsQs3N5pgYbYcw0cGZ2KwJGGK3QTFNAS0XiPnmadppVQN+9NxwMgWNCwAjjmKJpvkwKAbvDmFQ4zJgREDDCGAFEa8IQSCFghJFCxa7NGYG9CAM7gv0zDCwHLAcsB04rB/YijDkzpNluCHwXAjiY2n+GwDEhYIRxTNE0XyaFgBHGpMJhxoyAgBHGCCBaE4ZACgEjjBQqdm3OCBhhzDl6ZvukETDCmHR4zLg9EDDC2AM0q2II9EHACKMPSlZmTggYYcwpWmbrrBAwwphVuMzYHggYYfQAaZZFcKO0tl+E0yZqzc3RZunnhI02wphwcMy0vRCYGWH4HTDbBkIBQfsutK5YqVwoU7u/JjYHFDt/7iFX6nKnuDNmK0wZwhC7aiZ2KJW6w66kccfPhd4uOud7bhdQqRC3IIb4MaEE8ZXKtb49zwcRhsAoYJnwbU9bsJrbgTiRe6k2MxiKHEkkWk6uVebKl8q1vvZzOS40PrCmK/aI29i2l7aXq69d5OezIYyw3XZza2DuTjwmUOpEdoNafSo+r4h1hsujpkR96my8s6v2B8ultvwZ6uP6VY2G/iB3dvI7E4d7R1uEXdcglPGdOlysT/q6NlfMlS+VByhG+DucMLpwLjHIx5W2Ko9Yt7aYwVDGqLk9ek6u9ebKl8q1vtZz8jtu8Y/laBzJ5mN73Ma2vbS9XP1WbLxgEoSRDQrzghzmIz+T1Ycq4fG6AKpUXityB6JtuiQ7UalcqfMzxTALTQwASAgCIz5gLGBV4XcO2pNc6EtgNUSe810SO7asCEYoK/3yWb6+Uld0OogwWkk8Y4If5ES4W6sgtol8UeW7Y5KIj7A9J1fKUvEe1N5QfVp/5lzYkijbKc/ZlpNrfbnypXKtr3k+CcIgswh4NwgmPw7kbacBKNc7sC09K+CBLZUrHLGDaZt5pyuVC3V6AMdz5SvqixC5JOL2kW2jEkY7+XT77og12oqeSrIVvs/sW9+DCUPFUfredeYwc8t07bFwZJwjjExMKP+UDp6TObl2I1e+VK71DT3n40aqbmosCeXGtr20vVz9YHfH3+kQBjOSSKHl9rkPYTRnteELcy7RS+XM1NYBLtqZHgD7y6U2t36vOqwogvqiPOlrrhOw9ohcugYySsJwt6MJP+d7YkbklwE4wUVzcuVL5VHTGEeDCUN83Y6T/hBrHAbppVuU5Qgjg2Eyd1i7Obl2JVe+VK71DTp3+Svv1lUDZJ/M/3oCNLbtpe3l6ivXUqcnRhiusyQHURr4+sklkB2DIg20pXKpDc/cHYL8XnJdCv2oMza1BEMNJD+3WbcRDijBMgMMfga22oQaqJAeSDsTcr63D07pTporXyqPboxxNIQw8HOoVbWr1VKOZgf3ujg7cBgcgjAoJq2Djie4nJxZSoe58qVyro/aioM76ya8VH3sYhAnX7WAHXTGbUzbUWdpe7n6zK+2w+kQBgtmenbpXKAg5iKNbelZMQerVK7Q7F52cYO29okGfe9Hrr5SV5/WxMHwQHyirpYZEseibk0dUJnmUpsqlTzt75uzj5nfesfmFOXKl8qT7ux9cQhhNJU4X2IsmyXiFVfWlqQ8ImzyFzEaduTIYp+7PBY3skMRDrctJ9cm58qXyrW+xPkkCIMGGD3AJ4zFS70IgwfFt0P1go5SubJNtE0yljTB5qB7D7lSJ0/F4I965R1BEltRRzZHZ54s0rP8RHl1iRNGDhte1jWTvksIKnLlS+VBzxh/v4UwKJf7DmyIrcyPlJ/dGCbiI/IpJ9cac+VL5Vpf/pxydrHfZEk+gxvb9tL2cvXz2EyCMPJmxhIUTDklxXs1WOH6L7suk74JVJHcD6hRnWpfdCC0vVQe/cfbUj7rFAMyDh6CmIitYCmSP8xG1cwnqMiRhfBd+UWu4pIUH5RUGY2NIm/hTyBb3l6mPJTKAw4j/O1NGMpmVO0GrRAjHzMd28E2Yix4bFwDThe7ruxJxqS2RU6Oattb5U1fZPtD21NvQHa+NJEHzGHRThYCK4VT7Tt7oaTMt+lhNRPC8MCph4L1shMFTq/pyzp8kPXdBKplXM8cIk8mVbCh5WG9G8iCPtY5Qw7n6vtym00l7F6o5Gz6EdY+uW4cOMJgFAzAvxIzt8Th63l2FL7vdrALZF3HZg/fAklRG9IuIvaFmkF3lCdvSuUckoLj/oSxA1wLR2KPmHMcHOnyWA8yS+ARdYQJzz4YhzrpZyX+2VnwJyhywXGTO5V/+7fnkMjV74dXwDliFOIR+lXQQy5h/nfGrZ9toc0mlsEengtd2Jbqy6M0E8LIO2IlMJESg7UB82MI9CaMH7PQFBsCwxAwwhiG14RLb2BVLwNM2MwTMs0I44SCfSKuGmEcSaBpqUjc+h+JYzN2wwhjxsEz05MIGGEkYbGLhkA5AkYY5RhaC9NCwAhjWvEwa44IASOMIwqmuUII7EUY2BHsn2FgOWA5YDlwWjmwF2EY2RoChkAeARxM7T9D4JgQMMI4pmiaL5NCwAhjUuEwY0ZAwAhjBBCtCUMghYARRgoVuzZnBIww5hw9s33SCBhhTDo8ZtweCBhh7AGaVTEE+iBghNEHJSszJwSMMOYULbN1VggYYcwqXGZsDwSMMHqANMsiuOFc2y+/aTM6uaHZLH2cuNFGGBMPkJk3GIH5EIbacbNtLAwIiB0g/a6ZYcdJV0buzCplWCInD5r8X7FrZWITwFK5Upc7Rf9bMeokjLBDJt+xM+EPN6DUNxHbHkSWK18q574VHA8nDJlz9W7MBTa4qgPbFfEMeSDjIvpXItFycu1SrnypXOtrPe/he6NuJt/Gtr20vVz9hn/swiwIwznIEtYHNZGntWtYp0kCtdh95rRuwA2S9SntCM6/r9GUx5bwSMkpgZi9xXKpLX+G9nD9qkbDPi7HuhmC4MVLfaNYRn3y+wFCkTvJlS+VJ1Tue2kYYbgc4neFuRzuZZfvK7wvUH/q2qiS6rTnj4yRIyPefk6u7c6VL5VrfZ3nGd8bdTP5Nrbtpe3l6jf8UxcmQRjZBFZGh9k/T1JZpJnEQq6CjDIBZE4uGlN1SSb1i7b3kCt1/uM6YeYXB9u6HBICZz/1zYpVhd9eaBkQEr7X7SYOSn2j2CdsFZeY3lz5UjlTVXw4hDCaOPZUT/HquJtMNdM5YQjfT2nJDz1BwPZFe2ry1JBrg3LlS+VaX+Zc+JIp25hYYnluLz/2bYn2c3KtP1e+VK71Nc8nQRhkFgHpBsF2IggOyAE5XI1/nbxt0KEE1zMsHkg87pJHRXSEg5S2mQ9cpXKhTg/oeK5sRX3Rd5dE3D6yrZMw2gYLYckIvqfi1BXbXPlSedO/kitDCCOVI/11O7/dx356xI7nekpJKv9DOco/pYPnZE4e2gl/c+VL5UFP379dvjfayOTb2LaXtper3/CveWE6hMFso9kWPXdIzJ6xHCV8i4za4R3Iz8TZoJqczTEwc3Jmav2sgw/IKKc2aNR2tuwvl9rkbE7J6BT1xQ6d9KVrwCAcwt1LjsBLfUvMiPysTePlPM2VL5Wn8Nz/Wn/CcDiuNu6v/srbMAscBs2vt4VWvI44owiC+JfyQ+ZAXTyZO6jT98ecPGpxR7nypXKtL3dO+lp8b9TN5NvYtpe2l6vf8K95YYaE4YKUHlCCgzvYrCrYhNOwJOOzPjmI0kDpkj4nr5ulg45Bk0iqVC614Zm7Q9CfpPXl0I+6d/uy7JxKJRMn1N/AqorIOYLidyy+HP0p9a29w8kltaAzV75UHvSM83coYXR+C723SQ6DNsKg3G67u/Q68LOjVbWrNbo6OULwOZLMrXRcSEGufKm89iJMNCMZ6G6BRTt952054+lzs7od6p94cUzbUV9pe7n6Df+aF6ZDGORMbkbrOwO7W2i61HKFg4XHuo0hcqUitZxQJ03LjHmIXKmrT6kNvBNjGYudO5Jpy2yS+1q31n7AbdWlUBb1OSkv3y139jHzW+/YXMu58qVy7V3Z+VDCkDi0kH3SJB9nuiuPd5e6qBv428hfl+bnrn2KM7sTr0uwyZb7dr2ygcvrSv6gtL1cfa1v8DnzvVE3k28523JyrS9XvlSu9SXOJ0EYNMDoAbxhbJg5qWRslGu5wAdJAlYuaVFnCjbk5EqFqEsymWSlcqVOnnK/6FVg6VcSW1FHNpc64wSg5aW+NdvumI2GuysxssryufZycu1fyXl/wkiTQ9PWhDWUq3kSoDgtmuSeaDFxieezxJsKi3zKyXXzufKlcq1v6Dn3vVm3GSNuLz/2dWeO1SQIoxkGfcUBv2i9lfZyP5C0BZHPhGWZZmA75RR03klVfZEU6EupnOGxWYkZvRiwcfAIpBeq+AEl+u46QBpLZSeZvgKxVDK274qchT/hWVBYH0d7MuWL5QG3Ef4OIQxnN8sp4aePmY5tTxtzZOHkfqIh9DoFTh4najJGzQG1W970pbu8fgtxqL6eIGGxvr4PyMcy36aH1SwIg0D3P74LDwTdX5/EFOiwpr+D3c7P2FidOGCGBPLB8GWGyIM9ok6wgdqTs3zSWCr3Zm82FVTLuA7LB360S9gUXPWDvMMMbUNiiANAKIbA7cLznho76ctBfBf2SbuIuBdsIEVjO8qTL6XyGpCyg0GEgapEjnCfHZHzWPe3LNTlOSOXfgXGmAPKjpTeUKftWUm7PNiTjvPw9hwS7fr6I0X5n/E96JE3uTipCvhKv1B7qDPct+lhNQvCGBDyky66WcnB/aTBmIDzgwljAjabCYZAFwJGGF3ozEq2gdWeSxazcnNGxhphzChYZmovBIwwesE0/UK0VCTuk6dv87FbaIRx7BE+Pf+MME4v5ubxNyFghPFNQJuab0PACOPboDZFp4aAEcapRfz4/d2LMLAj2D/DwHLAcsBy4LRyYC/COH4eNQ8NgXIEcDC1/wyBY0LACOOYomm+TAoBI4xJhcOMGQEBI4wRQLQmDIEUAkYYKVTs2pwRMMKYc/TM9kkjYIQx6fCYcXsgYISxB2hWxRDog4ARRh+UrMycEDDCmFO0zNZZIWCEMatwmbE9EDDC6AHSLIrghnttv/Smzfiam6LNwq8ZG2mEMePgmelJBCZLGGKHx9YdZblP++8+61rJ1ee69M6iiU3/xK6Xe8iVutwp4tXGF+kvdakW/Q6vyTZyvqim5K6rCd/H3k22tL1cfe1fz/N2wgi7kIYdTtnfZAB6KgzFRLxC25kJQw6DjFz01x4+5MqXygMUff+6XZgTuYoNZHxv6MiUH9u30vZy9bl/kyaM5Fbd3Hp2TE7Xieo6ZH0athiuLwyXM1XYmvw0IyUI75Clcqktf4b6uH5Vo2Efl0uirCGqi+R8qQv6g0x5Gsxix6SOyjdNzMm1ulz5UrnWN+C8nTASjSg7EyX6X6K2OvJBt6R0D42JLO/yqavv5sqXyrV73ecuX9325DEv6zo5bOqC/iBTfmzfStvL1dfu/Qhh0ODOBwltFX05bsDXwVSQsDkBRKlc2SfaJpnsJKVypc75Uu+3n0hqJAQx0vNOsIBVVcGyi1CYD6IZjSMr1zYg5HyXxI4NSoLJyTU2ufKlcq1vyHl/wpD506mDcrnjbhIrd04Qmq2XYSTjR6136s+VL5U3/et3BfU2+1YOG912d/mxfSttL1dfewfwI4RBZlBSudvl5uDjOpAevJrm+yvYliYgnrSlcqUYk0LbzBOlVC7UabLDc+Ur6otYuSTg9pFtexJGzhdhq7+T47pRTvrJwFRc+WCZk2ttufKlcq1v2HlvwuC52kuF88vNihN3Eql8b223ECPKT2WDzlmuO1e+VM51DTrGfqMJI4eNVpApP7Zvpe3l6mv34CcJgxlDs1KaQYeA8Q7h12DVIMmqy7uJIGBgNGe94RmES/ScPDTp/jrb9KBIbbBBcX+51JafLaI9scMmfek1IGWSnZkVfWUX6TCHTWJGI0gmJ9f6cuVL5VrfsPN+hJHGrL8m56P4mhvFOzy7cH/jhEK3XIhRMrewzdCXlb5c+VK5Utf/NGVzDhvdeqb82L6Vtperr92bMmFsVhVsaoNdIOSySy3sIAyXtMlBlAilnzxqwqN0B486SuVSG565O4TwCVolRz/YaBBn86xcMjGYnA6d3aypHr6m20iSJRF+e4dysc3Jtb5c+VK51jfsvBdhsDwc1noo7XzkhIGfWK2qXSjglzRbBnC1JBgqxTzKYJjMrXQdajtXvlQeHMC/+sfXEwAAB/tJREFU1FYkTpnbvCAVTpBc2o+ITaoNfrfv5HX5MX0jk/HTsHGy6LXF56tj6/tRwmDB1AOMDgOdJ533JVGm70B4+VK5MggTQNtcJ4WYMceKQ+SxljyiNvBOjGU+ElW0xQ36XE4tcCxkk+wsRRiOrGL7rjj3hTVAhyhrL5/S4a65Ojm51pYrXyrX+oad9yKMVG5m1Ti/WpekGvVdeR0XV6wQI3YnX6vtIsFc+VJ5bcTQAyQHTao5bLSOTPmxfSttL1dfu/dThEEDjh7gE8aJS12DHjkugx1n/GH5qUAuDFEP1EkmO6TQvYdcqZOnAgfUK/1KYivqyObiWSrZ877G+u4o53uTbOQsLifX+nLlS+Va35DzPoTRtC+jgXK9OYvtriXzU5dt2jAkJrIstd2Zb7nypXLtXd9z1Cv7EtbMYaNb7y4/tm+l7eXqa+8m8gxDm9UGepwhOUf5TFrWaQJRJKcOwDupar/RQUrlDJHNSszYxYCMg4cmXj+gRKzcYNG8dWU66DBNGPotpsYzlaHYKHIX/qAdGTmV5x07Uz7XXlauYRpwvj9h+Jjp2PbRrfBwkC7F0sXYGMoYanJq+tJdXk9SdHt5eR+YmmWwzzYJI5cfQ7Es8/3nsfy5t6SaEfNXdrDbsXX71I/2qFPoNX0PZqo8tby/3CWFWmoJNoiH9cypUrlvarOpoFrGdVg+8KNdkRiYbj+IuyUL7ATYGfRapy8v7Ix6RLuijOxUe2Ej7EvY1SEn4l9w8tZr1cPaIxQ69DFUBx/mCaM5GDolbsLBY91b+Q77D75GHWOp2zkEhqFN/iyly5f28r7WitnPlmADDrn6oVz2r4h91ClUijIyv4IdfcujPaFOEytnbbs8nRft5XPt9ZO7Uu7/EyQMbp4ddyGwWcnBu6usyb4fgTxhfL9NptEQKEHACKMEvR+tu4HVPksWP2rzaSk3wjiteJ+Ct0YYM40yLQWJ++CZOnLEZhthHHFwT9Q1I4wTDby5fXgEjDAOj7Fp+F4EjDC+F2/TdkIIGGGcULBPxNW9CAM7gv0zDCwHLAcsB04rB/YijBMhU3PTEChCAAdT+88QOCYEjDCOKZrmy6QQMMKYVDjMmBEQMMIYAURrwhBIIWCEkULFrs0ZASOMOUfPbJ80AkYYkw6PGbcHAkYYe4BmVQyBPggYYfRBycrMCQEjjDlFy2ydFQJGGLMKlxnbAwEjjB4gWRFDYB8EjDD2Qc3qTBkBI4wDRMft4JreGDC3s6Q2J1e+VD5M3/47/mo9p3A+T8IIO6L6nVtH337Gt59sN5dfOmsy5cWuvYn+mJM31PFdgPdob6g+rX8C50YYowaBd7ZmQhGR1BsGtm1tHQ3KlS+VR03uKNcekVPd0Z2v9WnYtrm+0JRrfcd+Pj/C0Dmpz8siRvkVtl2v8yS2mcuvWNIddZdX+UdblPOtyXPyhrb46VMUDW5vqD6tfxrnRhh94+BnB4k8T7SAyaEJQyUM1mokHW8qV75UznWRMbJDaPvIf+mTIJicXKs7gfP5EUYibzFH60lOe9Bo8O5RDlugvNEdaWj+ZMqL3CSzJfnl5NrTXPlSudY31XMjjEGRcUmX/5ZyouNRgvMZTvPrcsKUXPlSuVAWbOmwLzVwcMLLybW+EzifH2GEj/uEPJCDbDZklA9uKUt8gEtVpMFVE8bQ/MmURwLTNvA7kpxcmUwfPSppb6g+rX8q50YYe0fCzfDTX81KEAZ1ptARg9JEuVq0Ep/VdJdZ+Vx7OXnQE/5myjdnUJJkcvKg5pT+zpEwMD40sHYsHfWJIeVDy9coU4QxNH+6y6eJLurNybWHufKlcq1vuudGGHvHZizCUJ8bDfa0DuC+fKk86Al/M+21d1C3TJWTBzWn9Hd+hOEGvgXN/mN+65uBPjGkfBiFMOQyaNDdnW8dAzgtm+XkQUv4mytfKg96pv/XCGNQjFxi2JKUB42TDB7rNWwuH4TzcRSeHWGUxpDibUtSIXtLlsBCG1P7a4TRNyL0zKDlbqDRBls6qmVuxiZma50Daq58qbw2zB9k2iP/5WxPzPJycq3uBM7nRhgUT5GgYdlRxj0VOhoc9YQhVZCaXIK7i2EFhuZPprzITVIj7wJycmaZq10t1YRoWHtD9Wn9Uzk3wjhIJHDwbXYymTQy4QD83QvrdN3l/dsmdXndXk4+XB+fMQE0CSYnPwjUE250boQBNAjLSZEgAn8HoTllaAgorxONdOePyzdONH3K12oakzOVv1re8DVTXvcH3V5WPhTFnylvhDEm7j7J3JKV/+HTItEBkw8UfYdYyAfj1CmS5Z3h+8v30edJxtuj3xqpSa9VPibY029rdoSBkHrSqHO4npD4Ccii+fZRv0jI3Em135k/wS5mT2f5hi/NCZz0VcqJ1LSvwQbKb1meMCiV9wPyR0sZYfwo/Kb8mBGYJWEcc0DMt2IEjDCKIbQGDIE0AkYYaVzs6nwRMMKYb+zM8okjYIQx8QCZeYMRMMIYDJlVMAT6IWCE0Q8nKzUfBIww5hMrs3RmCBhhzCxgZm4Wgb0IAyvZP8PAcsBywHLg9HKgjVX+ok1g1w0BQ8AQMAQMAY6AEQZHw44NAUPAEDAEWhEwwmiFxgSGgCFgCBgCHAEjDI6GHRsChoAhYAi0ImCE0QqNCQwBQ8AQMAQ4AkYYHA07NgQMAUPAEGhFwAijFRoTGAKGgCFgCHAEjDA4GnZsCBgChoAh0IrA/wcv0XAfA/7vbgAAAABJRU5ErkJggg==)"
      ]
    },
    {
      "cell_type": "code",
      "metadata": {
        "colab": {
          "base_uri": "https://localhost:8080/",
          "height": 297
        },
        "id": "SfHYmLP-9ifK",
        "outputId": "bce7e5d8-7427-4a08-f748-62df6dc1afe8"
      },
      "source": [
        "import matplotlib.pyplot as plt\n",
        "\n",
        "plt.clf()\n",
        "# Kategorisasi rata-rata besar transaksi\n",
        "def f(row):\n",
        "  if (row['Average_Transaction_Amount'] >= 100000 and row['Average_Transaction_Amount'] <=200000):\n",
        "    val ='100.000 - 250.000'\n",
        "  elif (row['Average_Transaction_Amount'] >250000 and row['Average_Transaction_Amount'] <= 500000):\n",
        "    val ='250.000 - 500.000'\n",
        "  elif (row['Average_Transaction_Amount'] >500000 and row['Average_Transaction_Amount'] <= 750000):\n",
        "    val ='500.000 - 750.000'\n",
        "  elif (row['Average_Transaction_Amount'] >750000 and row['Average_Transaction_Amount'] <= 1000000):\n",
        "    val ='750.000 - 1.000.000'\n",
        "  elif (row['Average_Transaction_Amount'] >1000000 and row['Average_Transaction_Amount'] <= 2500000):\n",
        "    val ='1.000.000 - 2.500.000'\n",
        "  elif (row['Average_Transaction_Amount'] >2500000 and row['Average_Transaction_Amount'] <= 5000000):\n",
        "    val ='2.500.000 - 5.000.000'\n",
        "  elif (row['Average_Transaction_Amount'] >5000000 and row['Average_Transaction_Amount'] <= 10000000):\n",
        "    val ='5.000.000 - 10.000.000'\n",
        "  else:\n",
        "    val ='>10.000.000'\n",
        "  return val\n",
        "# Tambahkan kolom baru\n",
        "df['Average_Transaction_Amount_Group'] = df.apply(f, axis=1)\n",
        "\n",
        "df_year = df.groupby(['Average_Transaction_Amount_Group'])['Customer_ID'].count()\n",
        "df_year.plot(x='Average_Transaction_Amount_Group', y='Customer_ID',\n",
        "             kind='bar', title='Customer Distribution by Average Transaction Amount Group')\n",
        "plt.xlabel('Average_Transaction_Amount_Group')\n",
        "plt.ylabel('Num_of_Customer')\n",
        "plt.tight_layout()\n",
        "plt.show()"
      ],
      "execution_count": 144,
      "outputs": [
        {
          "output_type": "display_data",
          "data": {
            "image/png": "[encoded data removed]",
            "text/plain": [
              "<Figure size 432x288 with 1 Axes>"
            ]
          },
          "metadata": {
            "tags": [],
            "needs_background": "light"
          }
        }
      ]
    },
    {
      "cell_type": "code",
      "metadata": {
        "colab": {
          "base_uri": "https://localhost:8080/",
          "height": 309
        },
        "id": "5PsRJ9HRijH5",
        "outputId": "b7bc731d-79db-414b-b0c2-a34158c17550"
      },
      "source": [
        "df.head()"
      ],
      "execution_count": 145,
      "outputs": [
        {
          "output_type": "execute_result",
          "data": {
            "text/html": [
              "<div>\n",
              "<style scoped>\n",
              "    .dataframe tbody tr th:only-of-type {\n",
              "        vertical-align: middle;\n",
              "    }\n",
              "\n",
              "    .dataframe tbody tr th {\n",
              "        vertical-align: top;\n",
              "    }\n",
              "\n",
              "    .dataframe thead th {\n",
              "        text-align: right;\n",
              "    }\n",
              "</style>\n",
              "<table border=\"1\" class=\"dataframe\">\n",
              "  <thead>\n",
              "    <tr style=\"text-align: right;\">\n",
              "      <th></th>\n",
              "      <th>Customer_ID</th>\n",
              "      <th>Product</th>\n",
              "      <th>First_Transaction</th>\n",
              "      <th>Last_Transaction</th>\n",
              "      <th>Average_Transaction_Amount</th>\n",
              "      <th>Count_Transaction</th>\n",
              "      <th>is_churn</th>\n",
              "      <th>Year_First_Transaction</th>\n",
              "      <th>Year_Last_Transaction</th>\n",
              "      <th>Count_Transaction_Group</th>\n",
              "      <th>Average_Transaction_Amount_Group</th>\n",
              "    </tr>\n",
              "  </thead>\n",
              "  <tbody>\n",
              "    <tr>\n",
              "      <th>0</th>\n",
              "      <td>29531</td>\n",
              "      <td>Jaket</td>\n",
              "      <td>2016-06-19 02:44:34.395999908</td>\n",
              "      <td>2018-10-05 05:48:02.608000040</td>\n",
              "      <td>1467681</td>\n",
              "      <td>22</td>\n",
              "      <td>False</td>\n",
              "      <td>2016</td>\n",
              "      <td>2018</td>\n",
              "      <td>&gt;10</td>\n",
              "      <td>1.000.000 - 2.500.000</td>\n",
              "    </tr>\n",
              "    <tr>\n",
              "      <th>1</th>\n",
              "      <td>29531</td>\n",
              "      <td>Sepatu</td>\n",
              "      <td>2014-07-23 01:02:11.493999958</td>\n",
              "      <td>2018-12-25 11:02:41.269999981</td>\n",
              "      <td>1269337</td>\n",
              "      <td>41</td>\n",
              "      <td>False</td>\n",
              "      <td>2014</td>\n",
              "      <td>2018</td>\n",
              "      <td>&gt;10</td>\n",
              "      <td>1.000.000 - 2.500.000</td>\n",
              "    </tr>\n",
              "    <tr>\n",
              "      <th>2</th>\n",
              "      <td>141526</td>\n",
              "      <td>Tas</td>\n",
              "      <td>2017-04-28 03:12:27.000000000</td>\n",
              "      <td>2019-01-24 09:40:02.000000000</td>\n",
              "      <td>310915</td>\n",
              "      <td>30</td>\n",
              "      <td>False</td>\n",
              "      <td>2017</td>\n",
              "      <td>2019</td>\n",
              "      <td>&gt;10</td>\n",
              "      <td>250.000 - 500.000</td>\n",
              "    </tr>\n",
              "    <tr>\n",
              "      <th>3</th>\n",
              "      <td>141526</td>\n",
              "      <td>Jaket</td>\n",
              "      <td>2017-04-28 06:52:52.546999931</td>\n",
              "      <td>2019-01-16 13:00:03.911000013</td>\n",
              "      <td>722632</td>\n",
              "      <td>27</td>\n",
              "      <td>False</td>\n",
              "      <td>2017</td>\n",
              "      <td>2019</td>\n",
              "      <td>&gt;10</td>\n",
              "      <td>500.000 - 750.000</td>\n",
              "    </tr>\n",
              "    <tr>\n",
              "      <th>4</th>\n",
              "      <td>37545</td>\n",
              "      <td>Sepatu</td>\n",
              "      <td>2015-04-16 10:01:38.530999899</td>\n",
              "      <td>2018-11-22 12:53:41.529999970</td>\n",
              "      <td>1775036</td>\n",
              "      <td>25</td>\n",
              "      <td>False</td>\n",
              "      <td>2015</td>\n",
              "      <td>2018</td>\n",
              "      <td>&gt;10</td>\n",
              "      <td>1.000.000 - 2.500.000</td>\n",
              "    </tr>\n",
              "  </tbody>\n",
              "</table>\n",
              "</div>"
            ],
            "text/plain": [
              "   Customer_ID Product  ... Count_Transaction_Group Average_Transaction_Amount_Group\n",
              "0        29531   Jaket  ...                     >10            1.000.000 - 2.500.000\n",
              "1        29531  Sepatu  ...                     >10            1.000.000 - 2.500.000\n",
              "2       141526     Tas  ...                     >10                250.000 - 500.000\n",
              "3       141526   Jaket  ...                     >10                500.000 - 750.000\n",
              "4        37545  Sepatu  ...                     >10            1.000.000 - 2.500.000\n",
              "\n",
              "[5 rows x 11 columns]"
            ]
          },
          "metadata": {
            "tags": []
          },
          "execution_count": 145
        }
      ]
    },
    {
      "cell_type": "code",
      "metadata": {
        "id": "Q33Vmy1Ciijg"
      },
      "source": [
        "df.to_csv('retail.csv', index=False, sep=',')"
      ],
      "execution_count": 146,
      "outputs": []
    },
    {
      "cell_type": "markdown",
      "metadata": {
        "id": "Bus-7qbsKggl"
      },
      "source": [
        "# **Modelling**"
      ]
    },
    {
      "cell_type": "markdown",
      "metadata": {
        "id": "eovVam7YKWJG"
      },
      "source": [
        "## **Feature Columns dan Target**"
      ]
    },
    {
      "cell_type": "code",
      "metadata": {
        "id": "40x67VxWIEof"
      },
      "source": [
        "from sklearn.preprocessing import LabelEncoder\n",
        "\n",
        "# Feature column: Year_Diff\n",
        "df['Year_Diff'] = df['Year_Last_Transaction'] - df['Year_First_Transaction']\n",
        "\n",
        "# Nama-nama feature columns\n",
        "feature_columns = ['Average_Transaction_Amount', 'Count_Transaction', 'Year_Diff']\n",
        "\n",
        "# Features variable\n",
        "X = df[feature_columns] \n",
        "\n",
        "# Target variable\n",
        "y = df['is_churn']\n",
        "y = LabelEncoder().fit_transform(y)"
      ],
      "execution_count": 147,
      "outputs": []
    },
    {
      "cell_type": "markdown",
      "metadata": {
        "id": "XfeUG5A2KK3b"
      },
      "source": [
        "## **Split X dan y ke dalam bagian training dan testing**"
      ]
    },
    {
      "cell_type": "code",
      "metadata": {
        "id": "IA1diW1MKIQn"
      },
      "source": [
        "from sklearn.model_selection import train_test_split\n",
        "\n",
        "X_train, X_test, y_train, y_test = train_test_split(X, y, test_size = 0.25, random_state = 0)"
      ],
      "execution_count": 148,
      "outputs": []
    },
    {
      "cell_type": "markdown",
      "metadata": {
        "id": "PREn9F9nFgaR"
      },
      "source": [
        "## **Normalization**"
      ]
    },
    {
      "cell_type": "code",
      "metadata": {
        "id": "6GTQViX1EY92"
      },
      "source": [
        "from sklearn.preprocessing import StandardScaler\n",
        "\n",
        "X_train = StandardScaler().fit_transform(X_train)\n",
        "X_test = StandardScaler().fit_transform(X_test)"
      ],
      "execution_count": 149,
      "outputs": []
    },
    {
      "cell_type": "markdown",
      "metadata": {
        "id": "d3ZNfRnDFrrN"
      },
      "source": [
        "## **Training Model**"
      ]
    },
    {
      "cell_type": "markdown",
      "metadata": {
        "id": "orftrBYiKDLj"
      },
      "source": [
        "## **SVM**"
      ]
    },
    {
      "cell_type": "code",
      "metadata": {
        "colab": {
          "base_uri": "https://localhost:8080/"
        },
        "id": "hZUbaqbkKFYw",
        "outputId": "44a98336-7150-4d4f-f41d-b191f435240e"
      },
      "source": [
        "from sklearn.svm import SVC\n",
        "\n",
        "# membuat objek SVC dan memanggil fungsi fit untuk melatih model\n",
        "clf = SVC()\n",
        "clf.fit(X_train, y_train)"
      ],
      "execution_count": 150,
      "outputs": [
        {
          "output_type": "execute_result",
          "data": {
            "text/plain": [
              "SVC(C=1.0, break_ties=False, cache_size=200, class_weight=None, coef0=0.0,\n",
              "    decision_function_shape='ovr', degree=3, gamma='scale', kernel='rbf',\n",
              "    max_iter=-1, probability=False, random_state=None, shrinking=True,\n",
              "    tol=0.001, verbose=False)"
            ]
          },
          "metadata": {
            "tags": []
          },
          "execution_count": 150
        }
      ]
    },
    {
      "cell_type": "code",
      "metadata": {
        "colab": {
          "base_uri": "https://localhost:8080/"
        },
        "id": "GFY2gD4dKoPK",
        "outputId": "c0ff34c9-b74f-48c2-eb69-15230d8cf750"
      },
      "source": [
        "# Menampilkan skor akurasi prediksi\n",
        "clf.score(X_test, y_test)"
      ],
      "execution_count": 151,
      "outputs": [
        {
          "output_type": "execute_result",
          "data": {
            "text/plain": [
              "0.771"
            ]
          },
          "metadata": {
            "tags": []
          },
          "execution_count": 151
        }
      ]
    }
  ]
}